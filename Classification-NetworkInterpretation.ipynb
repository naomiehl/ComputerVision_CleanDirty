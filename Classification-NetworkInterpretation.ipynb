{
 "cells": [
  {
   "cell_type": "code",
   "execution_count": 62,
   "metadata": {},
   "outputs": [],
   "source": [
    "import pandas as pd\n",
    "import matplotlib.pyplot as plt\n",
    "import seaborn as sns\n",
    "import cv2\n",
    "import os\n",
    "\n",
    "import tensorflow as tf\n",
    "import numpy as np\n",
    "import matplotlib.pyplot as plt\n",
    "from tensorflow.keras.layers import Dense, Flatten, Activation\n",
    "from tensorflow.keras.layers import Conv2D, MaxPooling2D\n",
    "from tensorflow.keras.layers import Dropout, BatchNormalization\n",
    "from tensorflow.keras.optimizers import SGD\n",
    "from tensorflow.keras.datasets import cifar10\n",
    "from keras.utils.np_utils import to_categorical\n",
    "from tensorflow.keras.models import Model\n",
    "from tensorflow.keras.models import Sequential\n",
    "from tensorflow.keras.callbacks import EarlyStopping\n",
    "\n",
    "import numpy as np\n",
    "\n",
    "import warnings\n",
    "warnings.filterwarnings('ignore')"
   ]
  },
  {
   "cell_type": "markdown",
   "metadata": {},
   "source": [
    "# Task 1 : Clean/dirty classification and analysis"
   ]
  },
  {
   "cell_type": "markdown",
   "metadata": {},
   "source": [
    "## Preprocessing and Visualisation"
   ]
  },
  {
   "cell_type": "code",
   "execution_count": 63,
   "metadata": {},
   "outputs": [
    {
     "data": {
      "text/html": [
       "<div>\n",
       "<style scoped>\n",
       "    .dataframe tbody tr th:only-of-type {\n",
       "        vertical-align: middle;\n",
       "    }\n",
       "\n",
       "    .dataframe tbody tr th {\n",
       "        vertical-align: top;\n",
       "    }\n",
       "\n",
       "    .dataframe thead th {\n",
       "        text-align: right;\n",
       "    }\n",
       "</style>\n",
       "<table border=\"1\" class=\"dataframe\">\n",
       "  <thead>\n",
       "    <tr style=\"text-align: right;\">\n",
       "      <th></th>\n",
       "      <th>image_path</th>\n",
       "      <th>split</th>\n",
       "      <th>label</th>\n",
       "    </tr>\n",
       "  </thead>\n",
       "  <tbody>\n",
       "    <tr>\n",
       "      <th>0</th>\n",
       "      <td>clean-dirty-garbage-containers/train/clean/001...</td>\n",
       "      <td>train</td>\n",
       "      <td>1</td>\n",
       "    </tr>\n",
       "    <tr>\n",
       "      <th>1</th>\n",
       "      <td>clean-dirty-garbage-containers/train/clean/001...</td>\n",
       "      <td>train</td>\n",
       "      <td>1</td>\n",
       "    </tr>\n",
       "    <tr>\n",
       "      <th>2</th>\n",
       "      <td>clean-dirty-garbage-containers/train/clean/001...</td>\n",
       "      <td>train</td>\n",
       "      <td>1</td>\n",
       "    </tr>\n",
       "    <tr>\n",
       "      <th>3</th>\n",
       "      <td>clean-dirty-garbage-containers/train/clean/001...</td>\n",
       "      <td>train</td>\n",
       "      <td>1</td>\n",
       "    </tr>\n",
       "    <tr>\n",
       "      <th>4</th>\n",
       "      <td>clean-dirty-garbage-containers/train/clean/001...</td>\n",
       "      <td>train</td>\n",
       "      <td>1</td>\n",
       "    </tr>\n",
       "    <tr>\n",
       "      <th>...</th>\n",
       "      <td>...</td>\n",
       "      <td>...</td>\n",
       "      <td>...</td>\n",
       "    </tr>\n",
       "    <tr>\n",
       "      <th>3407</th>\n",
       "      <td>clean-dirty-garbage-containers/test/dirty/e8e1...</td>\n",
       "      <td>test</td>\n",
       "      <td>0</td>\n",
       "    </tr>\n",
       "    <tr>\n",
       "      <th>3408</th>\n",
       "      <td>clean-dirty-garbage-containers/test/dirty/f02b...</td>\n",
       "      <td>test</td>\n",
       "      <td>0</td>\n",
       "    </tr>\n",
       "    <tr>\n",
       "      <th>3409</th>\n",
       "      <td>clean-dirty-garbage-containers/test/dirty/f29b...</td>\n",
       "      <td>test</td>\n",
       "      <td>0</td>\n",
       "    </tr>\n",
       "    <tr>\n",
       "      <th>3410</th>\n",
       "      <td>clean-dirty-garbage-containers/test/dirty/fc02...</td>\n",
       "      <td>test</td>\n",
       "      <td>0</td>\n",
       "    </tr>\n",
       "    <tr>\n",
       "      <th>3411</th>\n",
       "      <td>clean-dirty-garbage-containers/test/dirty/fe43...</td>\n",
       "      <td>test</td>\n",
       "      <td>0</td>\n",
       "    </tr>\n",
       "  </tbody>\n",
       "</table>\n",
       "<p>3412 rows × 3 columns</p>\n",
       "</div>"
      ],
      "text/plain": [
       "                                             image_path  split  label\n",
       "0     clean-dirty-garbage-containers/train/clean/001...  train      1\n",
       "1     clean-dirty-garbage-containers/train/clean/001...  train      1\n",
       "2     clean-dirty-garbage-containers/train/clean/001...  train      1\n",
       "3     clean-dirty-garbage-containers/train/clean/001...  train      1\n",
       "4     clean-dirty-garbage-containers/train/clean/001...  train      1\n",
       "...                                                 ...    ...    ...\n",
       "3407  clean-dirty-garbage-containers/test/dirty/e8e1...   test      0\n",
       "3408  clean-dirty-garbage-containers/test/dirty/f02b...   test      0\n",
       "3409  clean-dirty-garbage-containers/test/dirty/f29b...   test      0\n",
       "3410  clean-dirty-garbage-containers/test/dirty/fc02...   test      0\n",
       "3411  clean-dirty-garbage-containers/test/dirty/fe43...   test      0\n",
       "\n",
       "[3412 rows x 3 columns]"
      ]
     },
     "execution_count": 63,
     "metadata": {},
     "output_type": "execute_result"
    }
   ],
   "source": [
    "df = pd.read_csv(\"clean-dirty-metadata.csv\",sep=';')\n",
    "df = df.drop(['source','x_lat','y_lon','annotation_path'],axis=1)\n",
    "df[\"label\"] = (df[\"label\"] == \"clean\").astype(int)\n",
    "df"
   ]
  },
  {
   "cell_type": "code",
   "execution_count": 75,
   "metadata": {},
   "outputs": [],
   "source": [
    "IMG_WIDTH=32\n",
    "IMG_HEIGHT=32\n",
    "\n",
    "#get pathname and convert the image into the right shape\n",
    "df[\"images\"]=\"\"\n",
    "for i in range(len(df)) :\n",
    "    im = cv2.imread(df[\"image_path\"][i].partition(\"/\")[2], cv2.COLOR_BGR2GRAY)\n",
    "    image = cv2.resize(im, (IMG_HEIGHT, IMG_WIDTH))\n",
    "    image = np.array(image)\n",
    "    image = image.astype('float32')\n",
    "    image /= 255 \n",
    "    df[\"images\"][i]=image.astype(float)\n",
    "    "
   ]
  },
  {
   "cell_type": "code",
   "execution_count": 76,
   "metadata": {},
   "outputs": [],
   "source": [
    "'''# to have a smaller dataset to work with\n",
    "from sklearn.utils import shuffle\n",
    "df = shuffle(df)\n",
    "df1 = df[:200]\n",
    "df1\n",
    "'''\n",
    "# split into train and test\n",
    "df_train = df[df.split == 'train']\n",
    "df_test = df[df.split == 'test']\n",
    "\n",
    "#keep interesting column\n",
    "train_df = df_train.drop(['image_path','split'],axis=1)\n",
    "test_df = df_test.drop(['image_path','split'],axis=1)"
   ]
  },
  {
   "cell_type": "code",
   "execution_count": 77,
   "metadata": {},
   "outputs": [
    {
     "data": {
      "text/plain": [
       "<AxesSubplot:ylabel='count'>"
      ]
     },
     "execution_count": 77,
     "metadata": {},
     "output_type": "execute_result"
    },
    {
     "data": {
      "image/png": "[encoded data removed]",
      "text/plain": [
       "<Figure size 432x288 with 1 Axes>"
      ]
     },
     "metadata": {},
     "output_type": "display_data"
    }
   ],
   "source": [
    "#visualisation to see if my dataset is balance\n",
    "l = []\n",
    "for i in df_train.label:\n",
    "    if(i == 0):\n",
    "        l.append(\"clean\")\n",
    "    else:\n",
    "        l.append(\"dirty\")\n",
    "sns.set_style('darkgrid')\n",
    "sns.countplot(l)"
   ]
  },
  {
   "cell_type": "code",
   "execution_count": 78,
   "metadata": {},
   "outputs": [],
   "source": [
    "#Convert the target arrays to one-hot encodings\n",
    "'''from keras.utils.np_utils import to_categorical\n",
    "y_train = tf.keras.utils.to_categorical(\n",
    "    train_df['label'], num_classes=None, dtype='float32'\n",
    ")\n",
    "\n",
    "y_test = tf.keras.utils.to_categorical(\n",
    "    test_df['label'], num_classes=None, dtype='float32'\n",
    ")'''\n",
    "#one or the other I test\n",
    "y_train = np.asarray(train_df['label']).astype('float32').reshape((-1,1))\n",
    "y_test = np.asarray(test_df['label']).astype('float32').reshape((-1,1))"
   ]
  },
  {
   "cell_type": "code",
   "execution_count": 79,
   "metadata": {},
   "outputs": [],
   "source": [
    "#convert to numpy array \n",
    "#!!! suppose to be the same for test but there is a bug and I will deal with it later(tired!!)\n",
    "train = []\n",
    "for i in range(len(train_df)):\n",
    "    train.append(train_df['images'][i])\n",
    "x_train = np.array(train)\n",
    "\n",
    "test = []\n",
    "for index, row in test_df.iterrows():\n",
    "    test.append(row['images'])\n",
    "x_test = np.array(test)"
   ]
  },
  {
   "cell_type": "code",
   "execution_count": 80,
   "metadata": {},
   "outputs": [
    {
     "name": "stdout",
     "output_type": "stream",
     "text": [
      "Shape of training data (2217, 32, 32, 3)\n",
      "\n",
      "Shape of test data (1195, 32, 32, 3)\n"
     ]
    }
   ],
   "source": [
    "print(\"Shape of training data\", x_train.shape)\n",
    "print(\"\\nShape of test data\", x_test.shape)"
   ]
  },
  {
   "cell_type": "code",
   "execution_count": 81,
   "metadata": {},
   "outputs": [
    {
     "data": {
      "text/plain": [
       "<matplotlib.image.AxesImage at 0x7f883a2b9dc0>"
      ]
     },
     "execution_count": 81,
     "metadata": {},
     "output_type": "execute_result"
    },
    {
     "data": {
      "image/png": "[encoded data removed]",
      "text/plain": [
       "<Figure size 432x288 with 1 Axes>"
      ]
     },
     "metadata": {},
     "output_type": "display_data"
    }
   ],
   "source": [
    "plt.imshow(x_train[630]) #example"
   ]
  },
  {
   "cell_type": "code",
   "execution_count": 82,
   "metadata": {},
   "outputs": [
    {
     "data": {
      "text/plain": [
       "<matplotlib.image.AxesImage at 0x7f8860e68250>"
      ]
     },
     "execution_count": 82,
     "metadata": {},
     "output_type": "execute_result"
    },
    {
     "data": {
      "image/png": "[encoded data removed]",
      "text/plain": [
       "<Figure size 432x288 with 1 Axes>"
      ]
     },
     "metadata": {},
     "output_type": "display_data"
    }
   ],
   "source": [
    "plt.imshow(x_test[61]) #example"
   ]
  },
  {
   "cell_type": "markdown",
   "metadata": {},
   "source": [
    "## First Naive model"
   ]
  },
  {
   "cell_type": "code",
   "execution_count": 83,
   "metadata": {},
   "outputs": [
    {
     "name": "stdout",
     "output_type": "stream",
     "text": [
      "Model: \"sequential_2\"\n",
      "_________________________________________________________________\n",
      "Layer (type)                 Output Shape              Param #   \n",
      "=================================================================\n",
      "conv2d_6 (Conv2D)            (None, 30, 30, 32)        896       \n",
      "_________________________________________________________________\n",
      "activation_10 (Activation)   (None, 30, 30, 32)        0         \n",
      "_________________________________________________________________\n",
      "max_pooling2d_6 (MaxPooling2 (None, 15, 15, 32)        0         \n",
      "_________________________________________________________________\n",
      "conv2d_7 (Conv2D)            (None, 13, 13, 32)        9248      \n",
      "_________________________________________________________________\n",
      "activation_11 (Activation)   (None, 13, 13, 32)        0         \n",
      "_________________________________________________________________\n",
      "max_pooling2d_7 (MaxPooling2 (None, 6, 6, 32)          0         \n",
      "_________________________________________________________________\n",
      "conv2d_8 (Conv2D)            (None, 4, 4, 64)          18496     \n",
      "_________________________________________________________________\n",
      "activation_12 (Activation)   (None, 4, 4, 64)          0         \n",
      "_________________________________________________________________\n",
      "max_pooling2d_8 (MaxPooling2 (None, 2, 2, 64)          0         \n",
      "_________________________________________________________________\n",
      "flatten_2 (Flatten)          (None, 256)               0         \n",
      "_________________________________________________________________\n",
      "dense_4 (Dense)              (None, 64)                16448     \n",
      "_________________________________________________________________\n",
      "activation_13 (Activation)   (None, 64)                0         \n",
      "_________________________________________________________________\n",
      "dropout_2 (Dropout)          (None, 64)                0         \n",
      "_________________________________________________________________\n",
      "dense_5 (Dense)              (None, 1)                 65        \n",
      "_________________________________________________________________\n",
      "activation_14 (Activation)   (None, 1)                 0         \n",
      "=================================================================\n",
      "Total params: 45,153\n",
      "Trainable params: 45,153\n",
      "Non-trainable params: 0\n",
      "_________________________________________________________________\n"
     ]
    }
   ],
   "source": [
    "from keras import layers, models, optimizers\n",
    "from keras.preprocessing.image import ImageDataGenerator\n",
    "from keras.preprocessing.image import img_to_array, load_img\n",
    "from keras import layers, models, optimizers\n",
    "from keras import backend as K\n",
    "model = models.Sequential()\n",
    "\n",
    "model.add(layers.Conv2D(32, (3, 3), input_shape=(32, 32, 3)))\n",
    "model.add(layers.Activation('relu'))\n",
    "model.add(layers.MaxPooling2D(pool_size=(2, 2)))\n",
    "\n",
    "model.add(layers.Conv2D(32, (3, 3)))\n",
    "model.add(layers.Activation('relu'))\n",
    "model.add(layers.MaxPooling2D(pool_size=(2, 2)))\n",
    "\n",
    "model.add(layers.Conv2D(64, (3, 3)))\n",
    "model.add(layers.Activation('relu'))\n",
    "model.add(layers.MaxPooling2D(pool_size=(2, 2)))\n",
    "\n",
    "model.add(layers.Flatten())\n",
    "model.add(layers.Dense(64))\n",
    "model.add(layers.Activation('relu'))\n",
    "model.add(layers.Dropout(0.5))\n",
    "model.add(layers.Dense(1))\n",
    "model.add(layers.Activation('sigmoid'))\n",
    "\n",
    "model.compile(loss='binary_crossentropy',\n",
    "              optimizer='rmsprop',\n",
    "              metrics=['accuracy'])\n",
    "\n",
    "model.summary()"
   ]
  },
  {
   "cell_type": "code",
   "execution_count": 84,
   "metadata": {},
   "outputs": [
    {
     "name": "stdout",
     "output_type": "stream",
     "text": [
      "Epoch 1/50\n",
      "35/35 [==============================] - 2s 36ms/step - loss: 0.6836 - accuracy: 0.5611 - val_loss: 0.7110 - val_accuracy: 0.0271\n",
      "Epoch 2/50\n",
      "35/35 [==============================] - 1s 34ms/step - loss: 0.6584 - accuracy: 0.6166 - val_loss: 0.7030 - val_accuracy: 0.1795\n",
      "Epoch 3/50\n",
      "35/35 [==============================] - 1s 33ms/step - loss: 0.6320 - accuracy: 0.6518 - val_loss: 0.6752 - val_accuracy: 0.3780\n",
      "Epoch 4/50\n",
      "35/35 [==============================] - 1s 34ms/step - loss: 0.6227 - accuracy: 0.6676 - val_loss: 0.6411 - val_accuracy: 0.4542\n",
      "Epoch 5/50\n",
      "35/35 [==============================] - 1s 33ms/step - loss: 0.6084 - accuracy: 0.6653 - val_loss: 0.6526 - val_accuracy: 0.4263\n",
      "Epoch 6/50\n",
      "35/35 [==============================] - 1s 33ms/step - loss: 0.6158 - accuracy: 0.6703 - val_loss: 0.6642 - val_accuracy: 0.4087\n",
      "Epoch 7/50\n",
      "35/35 [==============================] - 1s 32ms/step - loss: 0.5986 - accuracy: 0.6897 - val_loss: 0.5915 - val_accuracy: 0.4560\n",
      "Epoch 8/50\n",
      "35/35 [==============================] - 1s 33ms/step - loss: 0.5828 - accuracy: 0.7037 - val_loss: 0.7475 - val_accuracy: 0.0559\n",
      "Epoch 9/50\n",
      "35/35 [==============================] - 1s 32ms/step - loss: 0.5808 - accuracy: 0.7050 - val_loss: 0.6527 - val_accuracy: 0.4041\n",
      "Epoch 10/50\n",
      "35/35 [==============================] - 1s 32ms/step - loss: 0.5654 - accuracy: 0.7131 - val_loss: 0.7069 - val_accuracy: 0.2287\n",
      "Epoch 11/50\n",
      "35/35 [==============================] - 1s 32ms/step - loss: 0.5595 - accuracy: 0.7145 - val_loss: 0.7003 - val_accuracy: 0.2512\n",
      "Epoch 12/50\n",
      "35/35 [==============================] - 1s 33ms/step - loss: 0.5499 - accuracy: 0.7334 - val_loss: 0.6560 - val_accuracy: 0.3960\n"
     ]
    }
   ],
   "source": [
    "es = EarlyStopping(\n",
    "    monitor=\"val_accuracy\",\n",
    "    patience=5\n",
    ")\n",
    "\n",
    "history = model.fit(\n",
    "    x_train,\n",
    "    y_train,\n",
    "    batch_size=64,\n",
    "    epochs=50,\n",
    "    validation_data=(0.1*x_train, 0.1*y_train),callbacks=es\n",
    ")\n"
   ]
  },
  {
   "cell_type": "markdown",
   "metadata": {},
   "source": [
    "## Predictions"
   ]
  },
  {
   "cell_type": "code",
   "execution_count": 85,
   "metadata": {},
   "outputs": [
    {
     "name": "stdout",
     "output_type": "stream",
     "text": [
      "[[0.6096261 ]\n",
      " [0.65471375]\n",
      " [0.6258001 ]\n",
      " ...\n",
      " [0.15633649]\n",
      " [0.7037674 ]\n",
      " [0.17838588]]\n"
     ]
    }
   ],
   "source": [
    "y_pred = model.predict(x_test)\n",
    "print(y_pred)"
   ]
  },
  {
   "cell_type": "code",
   "execution_count": 86,
   "metadata": {},
   "outputs": [
    {
     "name": "stdout",
     "output_type": "stream",
     "text": [
      "clean street by [92.9] % because the prediction is = [0.071]\n"
     ]
    },
    {
     "data": {
      "image/png": "[encoded data removed]",
      "text/plain": [
       "<Figure size 432x288 with 1 Axes>"
      ]
     },
     "metadata": {},
     "output_type": "display_data"
    }
   ],
   "source": [
    "plt.imshow(x_test[1110])\n",
    "pred = np.round(y_pred[1110],decimals=3)\n",
    "print('clean street by', np.abs(100 - 100*pred),'%','because the prediction is =',pred)"
   ]
  },
  {
   "cell_type": "code",
   "execution_count": 87,
   "metadata": {},
   "outputs": [
    {
     "name": "stdout",
     "output_type": "stream",
     "text": [
      "clean street by [71.7] % [0.283]\n"
     ]
    },
    {
     "data": {
      "image/png": "[encoded data removed]",
      "text/plain": [
       "<Figure size 432x288 with 1 Axes>"
      ]
     },
     "metadata": {},
     "output_type": "display_data"
    }
   ],
   "source": [
    "plt.imshow(x_test[10])\n",
    "pred = np.round(y_pred[10],decimals=3)\n",
    "print('clean street by', np.abs(100 - 100*pred),'%',pred)"
   ]
  },
  {
   "cell_type": "markdown",
   "metadata": {},
   "source": [
    "## Evaluation the result"
   ]
  },
  {
   "cell_type": "code",
   "execution_count": 88,
   "metadata": {},
   "outputs": [],
   "source": [
    "#change y_pred to binary array\n",
    "for i in range(len(y_pred)):\n",
    "    if y_pred[i] < 0.5:\n",
    "        y_pred[i] = 0\n",
    "    else:\n",
    "        y_pred[i] = 1"
   ]
  },
  {
   "cell_type": "code",
   "execution_count": 89,
   "metadata": {},
   "outputs": [
    {
     "data": {
      "text/plain": [
       "array([[500,  95],\n",
       "       [243, 357]])"
      ]
     },
     "execution_count": 89,
     "metadata": {},
     "output_type": "execute_result"
    }
   ],
   "source": [
    "from sklearn.metrics import confusion_matrix\n",
    "cm = confusion_matrix(y_test, y_pred)\n",
    "cm"
   ]
  },
  {
   "cell_type": "code",
   "execution_count": 90,
   "metadata": {},
   "outputs": [
    {
     "name": "stdout",
     "output_type": "stream",
     "text": [
      "Thats mean that we have 500 true positive 95 false positive 243 false positive and 357 true negative, well done!\n"
     ]
    }
   ],
   "source": [
    "print('Thats mean that we have', cm[0,0], 'true positive', cm[0,1], 'false positive', cm[1,0], 'false positive and', cm[1,1], 'true negative, well done!')"
   ]
  },
  {
   "cell_type": "code",
   "execution_count": 91,
   "metadata": {},
   "outputs": [
    {
     "name": "stdout",
     "output_type": "stream",
     "text": [
      "accuracy score 0.7171548117154811\n",
      "recall score 0.595\n",
      "precision score 0.7898230088495575\n",
      "f1 score 0.6787072243346007\n"
     ]
    }
   ],
   "source": [
    "#Accuracy\n",
    "from sklearn.metrics import accuracy_score\n",
    "print('accuracy score',accuracy_score(y_test, y_pred))\n",
    "# Recall\n",
    "from sklearn.metrics import recall_score\n",
    "print('recall score',recall_score(y_test, y_pred))\n",
    "# Precision\n",
    "from sklearn.metrics import precision_score\n",
    "print('precision score',precision_score(y_test, y_pred))\n",
    "from sklearn.metrics import f1_score\n",
    "print('f1 score',f1_score(y_test, y_pred))"
   ]
  },
  {
   "cell_type": "markdown",
   "metadata": {},
   "source": [
    "# Task 2: Network interpretation:"
   ]
  },
  {
   "cell_type": "code",
   "execution_count": 49,
   "metadata": {},
   "outputs": [],
   "source": [
    "from tensorflow.keras.models import Model\n",
    "\n",
    "def GradCam(model, img_array, layer_name, eps=1e-8):\n",
    "    '''\n",
    "    Creates a grad-cam heatmap given a model and a layer name contained with that model\n",
    "    Args:\n",
    "      model: tf model\n",
    "      img_array: (img_width x img_width) numpy array\n",
    "      layer_name: str\n",
    "    Returns \n",
    "      uint8 numpy array with shape (img_height, img_width)\n",
    "    '''\n",
    "    gradModel = Model(\n",
    "            inputs=[model.inputs],\n",
    "            outputs=[model.get_layer(layer_name).output,\n",
    "            model.output])\n",
    "    \n",
    "    with tf.GradientTape() as tape:\n",
    "    # cast the image tensor to a float-32 data type, pass the image through the gradient model, and grab the loss associated with the specific class index\n",
    "      inputs = tf.cast(img_array, tf.float32)\n",
    "      (convOutputs, predictions) = gradModel(inputs)\n",
    "      loss = predictions[:, 0]\n",
    "    # use automatic differentiation to compute the gradients\n",
    "    grads = tape.gradient(loss, convOutputs)\n",
    "    \n",
    "    # compute the guided gradients\n",
    "    castConvOutputs = tf.cast(convOutputs > 0, \"float32\")\n",
    "    castGrads = tf.cast(grads > 0, \"float32\")\n",
    "    guidedGrads = castConvOutputs * castGrads * grads\n",
    "    # the convolution and guided gradients have a batch dimension(which we don't need) so let's grab the volume itself and discard the batch\n",
    "    convOutputs = convOutputs[0]\n",
    "    guidedGrads = guidedGrads[0]\n",
    "    # compute the average of the gradient values, and using them as weights, compute the ponderation of the filters withrespect to the weights\n",
    "    weights = tf.reduce_mean(guidedGrads, axis=(0, 1))\n",
    "    cam = tf.reduce_sum(tf.multiply(weights, convOutputs), axis=-1)\n",
    "  \n",
    "    # grab the spatial dimensions of the input image and resize the output class activation map to match the input imagedimensions\n",
    "    (w, h) = (img_array.shape[2], img_array.shape[1])\n",
    "    heatmap = cv2.resize(cam.numpy(), (w, h))\n",
    "    # normalize the heatmap such that all values lie in the range [0, 1], scale the resulting values to the range [0, 255],\n",
    "    numer = heatmap - np.min(heatmap)\n",
    "    denom = (heatmap.max() - heatmap.min()) + eps\n",
    "    heatmap = numer / denom\n",
    "    # heatmap = (heatmap * 255).astype(\"uint8\") return the resulting heatmap to the calling function\n",
    "    return heatmap\n",
    "\n",
    "\n",
    "def sigmoid(x, a, b, c):\n",
    "    return c / (1 + np.exp(-a * (x-b)))\n",
    "\n",
    "def superimpose(img_bgr, cam, thresh, emphasize=False):\n",
    "    '''\n",
    "    Superimposes a grad-cam heatmap onto an image for model interpretation and visualization.\n",
    "\n",
    "    Args:\n",
    "      image: (img_width x img_height x 3) numpy array\n",
    "      grad-cam heatmap: (img_width x img_width) numpy array\n",
    "      threshold: float\n",
    "      emphasize: boolean\n",
    "\n",
    "    Returns \n",
    "      uint8 numpy array with shape (img_height, img_width, 3)\n",
    "\n",
    "    '''\n",
    "    heatmap = cv2.resize(cam, (img_bgr.shape[1], img_bgr.shape[0]))\n",
    "    if emphasize:\n",
    "        heatmap = sigmoid(heatmap, 50, thresh, 1)\n",
    "    heatmap = np.uint8(255 * heatmap)\n",
    "    heatmap = cv2.applyColorMap(heatmap, cv2.COLORMAP_JET)\n",
    "    \n",
    "    hif = .8\n",
    "    superimposed_img = heatmap * hif + img_bgr\n",
    "    superimposed_img = np.minimum(superimposed_img, 255.0).astype(np.uint8)  # scale 0 to 255  \n",
    "    superimposed_img_rgb = cv2.cvtColor(superimposed_img, cv2.COLOR_BGR2RGB)\n",
    "    \n",
    "    return superimposed_img_rgb"
   ]
  },
  {
   "cell_type": "code",
   "execution_count": 50,
   "metadata": {},
   "outputs": [
    {
     "data": {
      "image/png": "[encoded data removed]",
      "text/plain": [
       "<Figure size 864x360 with 2 Axes>"
      ]
     },
     "metadata": {},
     "output_type": "display_data"
    }
   ],
   "source": [
    "## Grad-CAM heatmap for the last convolutional layer in the model, Conv_1\n",
    "layer_name = 'conv2d'\n",
    "grad_cam=GradCam(model,np.expand_dims(image, axis=0),layer_name)\n",
    "grad_cam_superimposed = superimpose(image, grad_cam, 0.5, emphasize=True)\n",
    "\n",
    "\n",
    "plt.figure(figsize=(12, 5))\n",
    "ax = plt.subplot(1, 2, 1)\n",
    "plt.imshow(cv2.cvtColor(image, cv2.COLOR_BGR2RGB))\n",
    "plt.axis('off')\n",
    "plt.title('Original Image')\n",
    "ax = plt.subplot(1, 2, 2)\n",
    "plt.imshow(grad_cam_superimposed)\n",
    "plt.axis('off')\n",
    "plt.title('Conv_1 Grad-CAM heat-map')\n",
    "plt.tight_layout()"
   ]
  },
  {
   "cell_type": "code",
   "execution_count": 51,
   "metadata": {},
   "outputs": [
    {
     "data": {
      "image/png": "[encoded data removed]",
      "text/plain": [
       "<Figure size 864x360 with 2 Axes>"
      ]
     },
     "metadata": {},
     "output_type": "display_data"
    }
   ],
   "source": [
    "## Grad-CAM heatmap for the last convolutional layer in the model, Conv_1\n",
    "layer_name = 'activation_1'\n",
    "grad_cam=GradCam(model,np.expand_dims(image, axis=0),layer_name)\n",
    "grad_cam_superimposed = superimpose(image, grad_cam, 0.5, emphasize=True)\n",
    "\n",
    "\n",
    "plt.figure(figsize=(12, 5))\n",
    "ax = plt.subplot(1, 2, 1)\n",
    "plt.imshow(cv2.cvtColor(image, cv2.COLOR_BGR2RGB))\n",
    "plt.axis('off')\n",
    "plt.title('Original Image')\n",
    "ax = plt.subplot(1, 2, 2)\n",
    "plt.imshow(grad_cam_superimposed)\n",
    "plt.axis('off')\n",
    "plt.title('Conv_1 Grad-CAM heat-map')\n",
    "plt.tight_layout()"
   ]
  },
  {
   "cell_type": "code",
   "execution_count": 52,
   "metadata": {},
   "outputs": [],
   "source": [
    "## Gather all convolution and activation layers from the model\n",
    "## With these layers, we can explore grad-cam heatmaps for more layers in the model\n",
    "\n",
    "conv2D_layers = [layer.name for layer in reversed(model.layers) if len(layer.output_shape) == 4 and isinstance(layer, tf.keras.layers.Conv2D)]\n",
    "activation_layers = [layer.name for layer in reversed(model.layers) if len(layer.output_shape) == 4 and layer.__class__.__name__ == 'ReLU']\n",
    "all_layers = [layer.name for layer in reversed(model.layers) if len(layer.output_shape) == 4 and (layer.__class__.__name__ == 'ReLU' or isinstance(layer, tf.keras.layers.Conv2D))]"
   ]
  },
  {
   "cell_type": "code",
   "execution_count": 53,
   "metadata": {},
   "outputs": [
    {
     "data": {
      "image/png": "[encoded data removed]",
      "text/plain": [
       "<Figure size 1080x1080 with 3 Axes>"
      ]
     },
     "metadata": {},
     "output_type": "display_data"
    }
   ],
   "source": [
    "## Visualizing Activation layers\n",
    "plt.figure(figsize=(15, 15))\n",
    "for i, layer in enumerate(all_layers):\n",
    "  grad_cam = GradCam(model, np.expand_dims(image, axis=0), layer)\n",
    "  grad_cam_emphasized = superimpose(image, grad_cam, 0.5, emphasize=False)\n",
    "  ax = plt.subplot(7, 5, i +1)\n",
    "  plt.imshow(grad_cam_emphasized)\n",
    "  plt.title(layer)\n",
    "  plt.axis(\"off\")\n",
    "plt.tight_layout()"
   ]
  },
  {
   "cell_type": "code",
   "execution_count": 54,
   "metadata": {},
   "outputs": [
    {
     "data": {
      "image/png": "[encoded data removed]",
      "text/plain": [
       "<Figure size 864x1440 with 3 Axes>"
      ]
     },
     "metadata": {},
     "output_type": "display_data"
    }
   ],
   "source": [
    "## Visualizing Convolution layers\n",
    "plt.figure(figsize=(12, 20))\n",
    "for i, layer in enumerate(conv2D_layers):\n",
    "  grad_cam = GradCam(model, np.expand_dims(image, axis=0), layer)\n",
    "  grad_cam_emphasized = superimpose(image, grad_cam, 0.5, emphasize=True)\n",
    "  ax = plt.subplot(13, 4, i +1)\n",
    "  plt.imshow(grad_cam_emphasized)\n",
    "  plt.title(layer)\n",
    "  plt.axis(\"off\")\n",
    "plt.tight_layout()"
   ]
  },
  {
   "cell_type": "code",
   "execution_count": 59,
   "metadata": {},
   "outputs": [],
   "source": [
    "def fuse_layers(layers, model, img, emphasize=False):\n",
    "  '''\n",
    "    Fuses grad-cam heatmaps from a list of model layers into a single heatmap\n",
    "    and superimposes the heatmap onto an image.\n",
    "\n",
    "    Args:\n",
    "      layers: list of strings\n",
    "      model: tf model\n",
    "      img: (img_width x img_height x 3) numpy array\n",
    "\n",
    "\n",
    "    Returns \n",
    "      uint8 numpy array with shape (img_height, img_width, 3)\n",
    "\n",
    "    '''\n",
    "  cams = []\n",
    "  for layer in layers:\n",
    "    cam = GradCam(model, np.expand_dims(img, axis=0), layer)\n",
    "    cam = cv2.resize(cam, (img.shape[1], img.shape[0]))\n",
    "    cams.append(cam)\n",
    "\n",
    "  fused = np.mean(cams, axis=0)\n",
    "  superimposed = superimpose(img, fused, 0.5, emphasize=emphasize)\n",
    "  return superimposed\n"
   ]
  },
  {
   "cell_type": "code",
   "execution_count": 60,
   "metadata": {},
   "outputs": [],
   "source": [
    "## Using the fuse_layers function, lets fuse together all layers in the model\n",
    "\n",
    "fused = fuse_layers(all_layers, model, image, True)"
   ]
  },
  {
   "cell_type": "code",
   "execution_count": 61,
   "metadata": {},
   "outputs": [
    {
     "data": {
      "text/plain": [
       "Text(0.5, 1.0, 'All layers Grad-CAM heat-map')"
      ]
     },
     "execution_count": 61,
     "metadata": {},
     "output_type": "execute_result"
    },
    {
     "data": {
      "image/png": "[encoded data removed]",
      "text/plain": [
       "<Figure size 1296x576 with 3 Axes>"
      ]
     },
     "metadata": {},
     "output_type": "display_data"
    }
   ],
   "source": [
    "## We can see how fusing together all layers improves upon the Grad-CAM from the last\n",
    "## convolutional layer in the model\n",
    "plt.figure(figsize=(18, 8))\n",
    "ax = plt.subplot(1, 3, 1)\n",
    "plt.imshow(cv2.cvtColor(image, cv2.COLOR_BGR2RGB))\n",
    "plt.axis('off')\n",
    "plt.title('Original Image')\n",
    "ax = plt.subplot(1, 3, 2)\n",
    "plt.imshow(grad_cam_superimposed)\n",
    "plt.axis('off')\n",
    "plt.title('Conv_1 Grad-CAM heat-map')\n",
    "ax = plt.subplot(1, 3, 3)\n",
    "plt.imshow(fused)\n",
    "plt.axis('off')\n",
    "plt.title('All layers Grad-CAM heat-map')"
   ]
  }
 ],
 "metadata": {
  "kernelspec": {
   "display_name": "Python 3",
   "language": "python",
   "name": "python3"
  },
  "language_info": {
   "codemirror_mode": {
    "name": "ipython",
    "version": 3
   },
   "file_extension": ".py",
   "mimetype": "text/x-python",
   "name": "python",
   "nbconvert_exporter": "python",
   "pygments_lexer": "ipython3",
   "version": "3.8.5"
  }
 },
 "nbformat": 4,
 "nbformat_minor": 4
}
