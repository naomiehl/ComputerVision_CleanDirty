{
 "cells": [
  {
   "cell_type": "code",
   "execution_count": 268,
   "metadata": {},
   "outputs": [],
   "source": [
    "import pandas as pd\n",
    "import matplotlib.pyplot as plt\n",
    "import seaborn as sns\n",
    "import cv2\n",
    "import os\n",
    "\n",
    "import tensorflow as tf\n",
    "import numpy as np\n",
    "import matplotlib.pyplot as plt\n",
    "from tensorflow.keras.layers import Dense, Flatten, Activation\n",
    "from tensorflow.keras.layers import Conv2D, MaxPooling2D\n",
    "from tensorflow.keras.layers import Dropout, BatchNormalization\n",
    "from tensorflow.keras.optimizers import SGD\n",
    "from tensorflow.keras.datasets import cifar10\n",
    "from keras.utils.np_utils import to_categorical\n",
    "from tensorflow.keras.models import Model\n",
    "from tensorflow.keras.models import Sequential\n",
    "from tensorflow.keras.callbacks import EarlyStopping\n",
    "\n",
    "import numpy as np\n",
    "\n",
    "import warnings\n",
    "warnings.filterwarnings('ignore')"
   ]
  },
  {
   "cell_type": "markdown",
   "metadata": {},
   "source": [
    "## Preprocessing and Visualisation"
   ]
  },
  {
   "cell_type": "code",
   "execution_count": 269,
   "metadata": {},
   "outputs": [
    {
     "data": {
      "text/html": [
       "<div>\n",
       "<style scoped>\n",
       "    .dataframe tbody tr th:only-of-type {\n",
       "        vertical-align: middle;\n",
       "    }\n",
       "\n",
       "    .dataframe tbody tr th {\n",
       "        vertical-align: top;\n",
       "    }\n",
       "\n",
       "    .dataframe thead th {\n",
       "        text-align: right;\n",
       "    }\n",
       "</style>\n",
       "<table border=\"1\" class=\"dataframe\">\n",
       "  <thead>\n",
       "    <tr style=\"text-align: right;\">\n",
       "      <th></th>\n",
       "      <th>image_path</th>\n",
       "      <th>split</th>\n",
       "      <th>label</th>\n",
       "    </tr>\n",
       "  </thead>\n",
       "  <tbody>\n",
       "    <tr>\n",
       "      <th>0</th>\n",
       "      <td>clean-dirty-garbage-containers/train/clean/001...</td>\n",
       "      <td>train</td>\n",
       "      <td>1</td>\n",
       "    </tr>\n",
       "    <tr>\n",
       "      <th>1</th>\n",
       "      <td>clean-dirty-garbage-containers/train/clean/001...</td>\n",
       "      <td>train</td>\n",
       "      <td>1</td>\n",
       "    </tr>\n",
       "    <tr>\n",
       "      <th>2</th>\n",
       "      <td>clean-dirty-garbage-containers/train/clean/001...</td>\n",
       "      <td>train</td>\n",
       "      <td>1</td>\n",
       "    </tr>\n",
       "    <tr>\n",
       "      <th>3</th>\n",
       "      <td>clean-dirty-garbage-containers/train/clean/001...</td>\n",
       "      <td>train</td>\n",
       "      <td>1</td>\n",
       "    </tr>\n",
       "    <tr>\n",
       "      <th>4</th>\n",
       "      <td>clean-dirty-garbage-containers/train/clean/001...</td>\n",
       "      <td>train</td>\n",
       "      <td>1</td>\n",
       "    </tr>\n",
       "    <tr>\n",
       "      <th>...</th>\n",
       "      <td>...</td>\n",
       "      <td>...</td>\n",
       "      <td>...</td>\n",
       "    </tr>\n",
       "    <tr>\n",
       "      <th>3407</th>\n",
       "      <td>clean-dirty-garbage-containers/test/dirty/e8e1...</td>\n",
       "      <td>test</td>\n",
       "      <td>0</td>\n",
       "    </tr>\n",
       "    <tr>\n",
       "      <th>3408</th>\n",
       "      <td>clean-dirty-garbage-containers/test/dirty/f02b...</td>\n",
       "      <td>test</td>\n",
       "      <td>0</td>\n",
       "    </tr>\n",
       "    <tr>\n",
       "      <th>3409</th>\n",
       "      <td>clean-dirty-garbage-containers/test/dirty/f29b...</td>\n",
       "      <td>test</td>\n",
       "      <td>0</td>\n",
       "    </tr>\n",
       "    <tr>\n",
       "      <th>3410</th>\n",
       "      <td>clean-dirty-garbage-containers/test/dirty/fc02...</td>\n",
       "      <td>test</td>\n",
       "      <td>0</td>\n",
       "    </tr>\n",
       "    <tr>\n",
       "      <th>3411</th>\n",
       "      <td>clean-dirty-garbage-containers/test/dirty/fe43...</td>\n",
       "      <td>test</td>\n",
       "      <td>0</td>\n",
       "    </tr>\n",
       "  </tbody>\n",
       "</table>\n",
       "<p>3412 rows × 3 columns</p>\n",
       "</div>"
      ],
      "text/plain": [
       "                                             image_path  split  label\n",
       "0     clean-dirty-garbage-containers/train/clean/001...  train      1\n",
       "1     clean-dirty-garbage-containers/train/clean/001...  train      1\n",
       "2     clean-dirty-garbage-containers/train/clean/001...  train      1\n",
       "3     clean-dirty-garbage-containers/train/clean/001...  train      1\n",
       "4     clean-dirty-garbage-containers/train/clean/001...  train      1\n",
       "...                                                 ...    ...    ...\n",
       "3407  clean-dirty-garbage-containers/test/dirty/e8e1...   test      0\n",
       "3408  clean-dirty-garbage-containers/test/dirty/f02b...   test      0\n",
       "3409  clean-dirty-garbage-containers/test/dirty/f29b...   test      0\n",
       "3410  clean-dirty-garbage-containers/test/dirty/fc02...   test      0\n",
       "3411  clean-dirty-garbage-containers/test/dirty/fe43...   test      0\n",
       "\n",
       "[3412 rows x 3 columns]"
      ]
     },
     "execution_count": 269,
     "metadata": {},
     "output_type": "execute_result"
    }
   ],
   "source": [
    "df = pd.read_csv(\"clean-dirty-metadata.csv\",sep=';')\n",
    "df = df.drop(['source','x_lat','y_lon','annotation_path'],axis=1)\n",
    "df[\"label\"] = (df[\"label\"] == \"clean\").astype(int)\n",
    "df"
   ]
  },
  {
   "cell_type": "code",
   "execution_count": 270,
   "metadata": {},
   "outputs": [],
   "source": [
    "IMG_WIDTH=32\n",
    "IMG_HEIGHT=32\n",
    "\n",
    "#get pathname and convert the image into the right shape\n",
    "df[\"images\"]=\"\"\n",
    "for i in range(len(df)) :\n",
    "    im = cv2.imread(df[\"image_path\"][i].partition(\"/\")[2], cv2.COLOR_BGR2GRAY)\n",
    "    image = cv2.resize(im, (IMG_HEIGHT, IMG_WIDTH))\n",
    "    image = np.array(image)\n",
    "    image = image.astype('float32')\n",
    "    image /= 255 \n",
    "    df[\"images\"][i]=image.astype(float)\n",
    "    "
   ]
  },
  {
   "cell_type": "code",
   "execution_count": 271,
   "metadata": {},
   "outputs": [],
   "source": [
    "'''# to have a smaller dataset to work with\n",
    "from sklearn.utils import shuffle\n",
    "df = shuffle(df)\n",
    "df1 = df[:200]\n",
    "df1\n",
    "'''\n",
    "# split into train and test\n",
    "df_train = df[df.split == 'train']\n",
    "df_test = df[df.split == 'test']\n",
    "\n",
    "#keep interesting column\n",
    "train_df = df_train.drop(['image_path','split'],axis=1)\n",
    "test_df = df_test.drop(['image_path','split'],axis=1)"
   ]
  },
  {
   "cell_type": "code",
   "execution_count": 272,
   "metadata": {},
   "outputs": [
    {
     "data": {
      "text/plain": [
       "<AxesSubplot:ylabel='count'>"
      ]
     },
     "execution_count": 272,
     "metadata": {},
     "output_type": "execute_result"
    },
    {
     "data": {
      "image/png": "[encoded data removed]",
      "text/plain": [
       "<Figure size 432x288 with 1 Axes>"
      ]
     },
     "metadata": {},
     "output_type": "display_data"
    }
   ],
   "source": [
    "#visualisation to see if my dataset is balance\n",
    "l = []\n",
    "for i in df_train.label:\n",
    "    if(i == 0):\n",
    "        l.append(\"clean\")\n",
    "    else:\n",
    "        l.append(\"dirty\")\n",
    "sns.set_style('darkgrid')\n",
    "sns.countplot(l)"
   ]
  },
  {
   "cell_type": "code",
   "execution_count": 317,
   "metadata": {},
   "outputs": [],
   "source": [
    "#Convert the target arrays to one-hot encodings\n",
    "'''from keras.utils.np_utils import to_categorical\n",
    "y_train = tf.keras.utils.to_categorical(\n",
    "    train_df['label'], num_classes=None, dtype='float32'\n",
    ")\n",
    "\n",
    "y_test = tf.keras.utils.to_categorical(\n",
    "    test_df['label'], num_classes=None, dtype='float32'\n",
    ")'''\n",
    "#one or the other I test\n",
    "y_train = np.asarray(train_df['label']).astype('float32').reshape((-1,1))\n",
    "y_test = np.asarray(test_df['label']).astype('float32').reshape((-1,1))"
   ]
  },
  {
   "cell_type": "code",
   "execution_count": 318,
   "metadata": {},
   "outputs": [],
   "source": [
    "#convert to numpy array \n",
    "#!!! suppose to be the same for test but there is a bug and I will deal with it later(tired!!)\n",
    "train = []\n",
    "for i in range(len(train_df)):\n",
    "    train.append(train_df['images'][i])\n",
    "train = np.array(train)\n",
    "\n",
    "test = []\n",
    "for index, row in test_df.iterrows():\n",
    "    test.append(row['images'])\n",
    "test_ = np.array(test)"
   ]
  },
  {
   "cell_type": "code",
   "execution_count": 275,
   "metadata": {},
   "outputs": [],
   "source": [
    "x_train = train\n",
    "x_test = test_"
   ]
  },
  {
   "cell_type": "code",
   "execution_count": 319,
   "metadata": {},
   "outputs": [
    {
     "name": "stdout",
     "output_type": "stream",
     "text": [
      "Shape of training data (2217, 32, 32, 3)\n",
      "\n",
      "Shape of test data (1195, 32, 32, 3)\n"
     ]
    }
   ],
   "source": [
    "print(\"Shape of training data\", x_train.shape)\n",
    "print(\"\\nShape of test data\", x_test.shape)"
   ]
  },
  {
   "cell_type": "code",
   "execution_count": 320,
   "metadata": {},
   "outputs": [
    {
     "data": {
      "text/plain": [
       "<matplotlib.image.AxesImage at 0x7f817ba49a60>"
      ]
     },
     "execution_count": 320,
     "metadata": {},
     "output_type": "execute_result"
    },
    {
     "data": {
      "image/png": "[encoded data removed]",
      "text/plain": [
       "<Figure size 432x288 with 1 Axes>"
      ]
     },
     "metadata": {},
     "output_type": "display_data"
    }
   ],
   "source": [
    "plt.imshow(x_train[630]) #example"
   ]
  },
  {
   "cell_type": "code",
   "execution_count": 321,
   "metadata": {},
   "outputs": [
    {
     "data": {
      "text/plain": [
       "<matplotlib.image.AxesImage at 0x7f817d69bb80>"
      ]
     },
     "execution_count": 321,
     "metadata": {},
     "output_type": "execute_result"
    },
    {
     "data": {
      "image/png": "[encoded data removed]",
      "text/plain": [
       "<Figure size 432x288 with 1 Axes>"
      ]
     },
     "metadata": {},
     "output_type": "display_data"
    }
   ],
   "source": [
    "plt.imshow(x_test[601]) #example"
   ]
  },
  {
   "cell_type": "markdown",
   "metadata": {},
   "source": [
    "## First Naive model"
   ]
  },
  {
   "cell_type": "code",
   "execution_count": 336,
   "metadata": {},
   "outputs": [
    {
     "name": "stdout",
     "output_type": "stream",
     "text": [
      "Model: \"sequential_20\"\n",
      "_________________________________________________________________\n",
      "Layer (type)                 Output Shape              Param #   \n",
      "=================================================================\n",
      "conv2d_13 (Conv2D)           (None, 30, 30, 32)        896       \n",
      "_________________________________________________________________\n",
      "activation (Activation)      (None, 30, 30, 32)        0         \n",
      "_________________________________________________________________\n",
      "max_pooling2d_10 (MaxPooling (None, 15, 15, 32)        0         \n",
      "_________________________________________________________________\n",
      "conv2d_14 (Conv2D)           (None, 13, 13, 32)        9248      \n",
      "_________________________________________________________________\n",
      "activation_1 (Activation)    (None, 13, 13, 32)        0         \n",
      "_________________________________________________________________\n",
      "max_pooling2d_11 (MaxPooling (None, 6, 6, 32)          0         \n",
      "_________________________________________________________________\n",
      "conv2d_15 (Conv2D)           (None, 4, 4, 64)          18496     \n",
      "_________________________________________________________________\n",
      "activation_2 (Activation)    (None, 4, 4, 64)          0         \n",
      "_________________________________________________________________\n",
      "max_pooling2d_12 (MaxPooling (None, 2, 2, 64)          0         \n",
      "_________________________________________________________________\n",
      "flatten_17 (Flatten)         (None, 256)               0         \n",
      "_________________________________________________________________\n",
      "dense_22 (Dense)             (None, 64)                16448     \n",
      "_________________________________________________________________\n",
      "activation_3 (Activation)    (None, 64)                0         \n",
      "_________________________________________________________________\n",
      "dropout_10 (Dropout)         (None, 64)                0         \n",
      "_________________________________________________________________\n",
      "dense_23 (Dense)             (None, 1)                 65        \n",
      "_________________________________________________________________\n",
      "activation_4 (Activation)    (None, 1)                 0         \n",
      "=================================================================\n",
      "Total params: 45,153\n",
      "Trainable params: 45,153\n",
      "Non-trainable params: 0\n",
      "_________________________________________________________________\n"
     ]
    }
   ],
   "source": [
    "from keras import layers, models, optimizers\n",
    "from keras.preprocessing.image import ImageDataGenerator\n",
    "from keras.preprocessing.image import img_to_array, load_img\n",
    "from keras import layers, models, optimizers\n",
    "from keras import backend as K\n",
    "model = models.Sequential()\n",
    "\n",
    "model.add(layers.Conv2D(32, (3, 3), input_shape=(32, 32, 3)))\n",
    "model.add(layers.Activation('relu'))\n",
    "model.add(layers.MaxPooling2D(pool_size=(2, 2)))\n",
    "\n",
    "model.add(layers.Conv2D(32, (3, 3)))\n",
    "model.add(layers.Activation('relu'))\n",
    "model.add(layers.MaxPooling2D(pool_size=(2, 2)))\n",
    "\n",
    "model.add(layers.Conv2D(64, (3, 3)))\n",
    "model.add(layers.Activation('relu'))\n",
    "model.add(layers.MaxPooling2D(pool_size=(2, 2)))\n",
    "\n",
    "model.add(layers.Flatten())\n",
    "model.add(layers.Dense(64))\n",
    "model.add(layers.Activation('relu'))\n",
    "model.add(layers.Dropout(0.5))\n",
    "model.add(layers.Dense(1))\n",
    "model.add(layers.Activation('sigmoid'))\n",
    "\n",
    "model.compile(loss='binary_crossentropy',\n",
    "              optimizer='rmsprop',\n",
    "              metrics=['accuracy'])\n",
    "\n",
    "model.summary()"
   ]
  },
  {
   "cell_type": "code",
   "execution_count": 339,
   "metadata": {},
   "outputs": [
    {
     "name": "stdout",
     "output_type": "stream",
     "text": [
      "Epoch 1/10\n",
      "70/70 [==============================] - 1s 17ms/step - loss: 0.4774 - accuracy: 0.7740 - val_loss: 0.7936 - val_accuracy: 0.0550\n",
      "Epoch 2/10\n",
      "70/70 [==============================] - 1s 17ms/step - loss: 0.4400 - accuracy: 0.8020 - val_loss: 0.9111 - val_accuracy: 0.0041\n",
      "Epoch 3/10\n",
      "70/70 [==============================] - 1s 18ms/step - loss: 0.4139 - accuracy: 0.8146 - val_loss: 0.9401 - val_accuracy: 9.0212e-04\n",
      "Epoch 4/10\n",
      "70/70 [==============================] - 1s 19ms/step - loss: 0.3941 - accuracy: 0.8232 - val_loss: 1.0061 - val_accuracy: 0.0000e+00\n",
      "Epoch 5/10\n",
      "70/70 [==============================] - 1s 19ms/step - loss: 0.3468 - accuracy: 0.8557 - val_loss: 1.1038 - val_accuracy: 0.0000e+00\n",
      "Epoch 6/10\n",
      "70/70 [==============================] - 1s 19ms/step - loss: 0.3152 - accuracy: 0.8719 - val_loss: 0.9795 - val_accuracy: 4.5106e-04\n",
      "Epoch 7/10\n",
      "70/70 [==============================] - 1s 17ms/step - loss: 0.2735 - accuracy: 0.8908 - val_loss: 0.9432 - val_accuracy: 0.0090\n",
      "Epoch 8/10\n",
      "70/70 [==============================] - 1s 17ms/step - loss: 0.2546 - accuracy: 0.8949 - val_loss: 1.2248 - val_accuracy: 0.0000e+00\n",
      "Epoch 9/10\n",
      "70/70 [==============================] - 1s 18ms/step - loss: 0.2229 - accuracy: 0.9157 - val_loss: 1.0510 - val_accuracy: 9.0212e-04\n"
     ]
    }
   ],
   "source": [
    "es = tf.keras.callbacks.EarlyStopping(\n",
    "    monitor=\"val_accuracy\",\n",
    "    patience=8)\n",
    "\n",
    "history = model.fit(\n",
    "    x_train,\n",
    "    y_train_,\n",
    "    batch_size=32,\n",
    "    epochs=10,\n",
    "    validation_data=(0.1*x_train, 0.1*y_train_),callbacks=es\n",
    ")"
   ]
  },
  {
   "cell_type": "markdown",
   "metadata": {},
   "source": [
    "## Predictions"
   ]
  },
  {
   "cell_type": "code",
   "execution_count": 341,
   "metadata": {},
   "outputs": [
    {
     "name": "stdout",
     "output_type": "stream",
     "text": [
      "[[0.06826773]\n",
      " [0.710962  ]\n",
      " [0.50240505]\n",
      " ...\n",
      " [0.12966633]\n",
      " [0.05464759]\n",
      " [0.13052526]]\n"
     ]
    }
   ],
   "source": [
    "predictions = model.predict(x_test)\n",
    "print(predictions)"
   ]
  },
  {
   "cell_type": "code",
   "execution_count": 381,
   "metadata": {},
   "outputs": [
    {
     "name": "stdout",
     "output_type": "stream",
     "text": [
      "clean street by [93.2] % [0.068]\n"
     ]
    },
    {
     "data": {
      "image/png": "[encoded data removed]",
      "text/plain": [
       "<Figure size 432x288 with 1 Axes>"
      ]
     },
     "metadata": {},
     "output_type": "display_data"
    }
   ],
   "source": [
    "plt.imshow(x_test[0])\n",
    "pred = np.round(predictions[0],decimals=3)\n",
    "print('clean street by', np.abs(100 - 100*pred),'%',pred)"
   ]
  },
  {
   "cell_type": "code",
   "execution_count": 382,
   "metadata": {},
   "outputs": [
    {
     "name": "stdout",
     "output_type": "stream",
     "text": [
      "clean street by [16.599998] % [0.834]\n"
     ]
    },
    {
     "data": {
      "image/png": "[encoded data removed]",
      "text/plain": [
       "<Figure size 432x288 with 1 Axes>"
      ]
     },
     "metadata": {},
     "output_type": "display_data"
    }
   ],
   "source": [
    "plt.imshow(x_test[130])\n",
    "pred = np.round(predictions[130],decimals=3)\n",
    "print('clean street by', np.abs(100 - 100*pred),'%',pred)"
   ]
  },
  {
   "cell_type": "markdown",
   "metadata": {},
   "source": [
    "## Evaluation the result"
   ]
  },
  {
   "cell_type": "code",
   "execution_count": null,
   "metadata": {},
   "outputs": [],
   "source": [
    "#to be fulfill...."
   ]
  }
 ],
 "metadata": {
  "kernelspec": {
   "display_name": "Python 3",
   "language": "python",
   "name": "python3"
  },
  "language_info": {
   "codemirror_mode": {
    "name": "ipython",
    "version": 3
   },
   "file_extension": ".py",
   "mimetype": "text/x-python",
   "name": "python",
   "nbconvert_exporter": "python",
   "pygments_lexer": "ipython3",
   "version": "3.8.5"
  }
 },
 "nbformat": 4,
 "nbformat_minor": 4
}
