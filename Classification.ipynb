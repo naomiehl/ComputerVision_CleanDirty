{
 "cells": [
  {
   "cell_type": "code",
   "execution_count": 1,
   "metadata": {},
   "outputs": [],
   "source": [
    "import pandas as pd\n",
    "import matplotlib.pyplot as plt\n",
    "import seaborn as sns\n",
    "import cv2\n",
    "import os\n",
    "\n",
    "import tensorflow as tf\n",
    "import numpy as np\n",
    "import matplotlib.pyplot as plt\n",
    "from tensorflow.keras.layers import Dense, Flatten, Activation\n",
    "from tensorflow.keras.layers import Conv2D, MaxPooling2D\n",
    "from tensorflow.keras.layers import Dropout, BatchNormalization\n",
    "from tensorflow.keras.optimizers import SGD\n",
    "from tensorflow.keras.datasets import cifar10\n",
    "from keras.utils.np_utils import to_categorical\n",
    "from tensorflow.keras.models import Model\n",
    "from tensorflow.keras.models import Sequential\n",
    "from tensorflow.keras.callbacks import EarlyStopping\n",
    "\n",
    "import numpy as np\n",
    "\n",
    "import warnings\n",
    "warnings.filterwarnings('ignore')"
   ]
  },
  {
   "cell_type": "markdown",
   "metadata": {},
   "source": [
    "## Preprocessing and Visualisation"
   ]
  },
  {
   "cell_type": "code",
   "execution_count": 2,
   "metadata": {},
   "outputs": [
    {
     "data": {
      "text/html": [
       "<div>\n",
       "<style scoped>\n",
       "    .dataframe tbody tr th:only-of-type {\n",
       "        vertical-align: middle;\n",
       "    }\n",
       "\n",
       "    .dataframe tbody tr th {\n",
       "        vertical-align: top;\n",
       "    }\n",
       "\n",
       "    .dataframe thead th {\n",
       "        text-align: right;\n",
       "    }\n",
       "</style>\n",
       "<table border=\"1\" class=\"dataframe\">\n",
       "  <thead>\n",
       "    <tr style=\"text-align: right;\">\n",
       "      <th></th>\n",
       "      <th>image_path</th>\n",
       "      <th>split</th>\n",
       "      <th>label</th>\n",
       "    </tr>\n",
       "  </thead>\n",
       "  <tbody>\n",
       "    <tr>\n",
       "      <th>0</th>\n",
       "      <td>clean-dirty-garbage-containers/train/clean/001...</td>\n",
       "      <td>train</td>\n",
       "      <td>1</td>\n",
       "    </tr>\n",
       "    <tr>\n",
       "      <th>1</th>\n",
       "      <td>clean-dirty-garbage-containers/train/clean/001...</td>\n",
       "      <td>train</td>\n",
       "      <td>1</td>\n",
       "    </tr>\n",
       "    <tr>\n",
       "      <th>2</th>\n",
       "      <td>clean-dirty-garbage-containers/train/clean/001...</td>\n",
       "      <td>train</td>\n",
       "      <td>1</td>\n",
       "    </tr>\n",
       "    <tr>\n",
       "      <th>3</th>\n",
       "      <td>clean-dirty-garbage-containers/train/clean/001...</td>\n",
       "      <td>train</td>\n",
       "      <td>1</td>\n",
       "    </tr>\n",
       "    <tr>\n",
       "      <th>4</th>\n",
       "      <td>clean-dirty-garbage-containers/train/clean/001...</td>\n",
       "      <td>train</td>\n",
       "      <td>1</td>\n",
       "    </tr>\n",
       "    <tr>\n",
       "      <th>...</th>\n",
       "      <td>...</td>\n",
       "      <td>...</td>\n",
       "      <td>...</td>\n",
       "    </tr>\n",
       "    <tr>\n",
       "      <th>3407</th>\n",
       "      <td>clean-dirty-garbage-containers/test/dirty/e8e1...</td>\n",
       "      <td>test</td>\n",
       "      <td>0</td>\n",
       "    </tr>\n",
       "    <tr>\n",
       "      <th>3408</th>\n",
       "      <td>clean-dirty-garbage-containers/test/dirty/f02b...</td>\n",
       "      <td>test</td>\n",
       "      <td>0</td>\n",
       "    </tr>\n",
       "    <tr>\n",
       "      <th>3409</th>\n",
       "      <td>clean-dirty-garbage-containers/test/dirty/f29b...</td>\n",
       "      <td>test</td>\n",
       "      <td>0</td>\n",
       "    </tr>\n",
       "    <tr>\n",
       "      <th>3410</th>\n",
       "      <td>clean-dirty-garbage-containers/test/dirty/fc02...</td>\n",
       "      <td>test</td>\n",
       "      <td>0</td>\n",
       "    </tr>\n",
       "    <tr>\n",
       "      <th>3411</th>\n",
       "      <td>clean-dirty-garbage-containers/test/dirty/fe43...</td>\n",
       "      <td>test</td>\n",
       "      <td>0</td>\n",
       "    </tr>\n",
       "  </tbody>\n",
       "</table>\n",
       "<p>3412 rows × 3 columns</p>\n",
       "</div>"
      ],
      "text/plain": [
       "                                             image_path  split  label\n",
       "0     clean-dirty-garbage-containers/train/clean/001...  train      1\n",
       "1     clean-dirty-garbage-containers/train/clean/001...  train      1\n",
       "2     clean-dirty-garbage-containers/train/clean/001...  train      1\n",
       "3     clean-dirty-garbage-containers/train/clean/001...  train      1\n",
       "4     clean-dirty-garbage-containers/train/clean/001...  train      1\n",
       "...                                                 ...    ...    ...\n",
       "3407  clean-dirty-garbage-containers/test/dirty/e8e1...   test      0\n",
       "3408  clean-dirty-garbage-containers/test/dirty/f02b...   test      0\n",
       "3409  clean-dirty-garbage-containers/test/dirty/f29b...   test      0\n",
       "3410  clean-dirty-garbage-containers/test/dirty/fc02...   test      0\n",
       "3411  clean-dirty-garbage-containers/test/dirty/fe43...   test      0\n",
       "\n",
       "[3412 rows x 3 columns]"
      ]
     },
     "execution_count": 2,
     "metadata": {},
     "output_type": "execute_result"
    }
   ],
   "source": [
    "df = pd.read_csv(\"clean-dirty-metadata.csv\",sep=';')\n",
    "df = df.drop(['source','x_lat','y_lon','annotation_path'],axis=1)\n",
    "df[\"label\"] = (df[\"label\"] == \"clean\").astype(int)\n",
    "df"
   ]
  },
  {
   "cell_type": "code",
   "execution_count": 3,
   "metadata": {},
   "outputs": [],
   "source": [
    "IMG_WIDTH=32\n",
    "IMG_HEIGHT=32\n",
    "\n",
    "#get pathname and convert the image into the right shape\n",
    "df[\"images\"]=\"\"\n",
    "for i in range(len(df)) :\n",
    "    im = cv2.imread(df[\"image_path\"][i].partition(\"/\")[2], cv2.COLOR_BGR2GRAY)\n",
    "    image = cv2.resize(im, (IMG_HEIGHT, IMG_WIDTH))\n",
    "    image = np.array(image)\n",
    "    image = image.astype('float32')\n",
    "    image /= 255 \n",
    "    df[\"images\"][i]=image.astype(float)\n",
    "    "
   ]
  },
  {
   "cell_type": "code",
   "execution_count": 4,
   "metadata": {},
   "outputs": [],
   "source": [
    "'''# to have a smaller dataset to work with\n",
    "from sklearn.utils import shuffle\n",
    "df = shuffle(df)\n",
    "df1 = df[:200]\n",
    "df1\n",
    "'''\n",
    "# split into train and test\n",
    "df_train = df[df.split == 'train']\n",
    "df_test = df[df.split == 'test']\n",
    "\n",
    "#keep interesting column\n",
    "train_df = df_train.drop(['image_path','split'],axis=1)\n",
    "test_df = df_test.drop(['image_path','split'],axis=1)"
   ]
  },
  {
   "cell_type": "code",
   "execution_count": 5,
   "metadata": {},
   "outputs": [
    {
     "data": {
      "text/plain": [
       "<AxesSubplot:ylabel='count'>"
      ]
     },
     "execution_count": 5,
     "metadata": {},
     "output_type": "execute_result"
    },
    {
     "data": {
      "image/png": "[encoded data removed]",
      "text/plain": [
       "<Figure size 432x288 with 1 Axes>"
      ]
     },
     "metadata": {},
     "output_type": "display_data"
    }
   ],
   "source": [
    "#visualisation to see if my dataset is balance\n",
    "l = []\n",
    "for i in df_train.label:\n",
    "    if(i == 0):\n",
    "        l.append(\"clean\")\n",
    "    else:\n",
    "        l.append(\"dirty\")\n",
    "sns.set_style('darkgrid')\n",
    "sns.countplot(l)"
   ]
  },
  {
   "cell_type": "code",
   "execution_count": 6,
   "metadata": {},
   "outputs": [],
   "source": [
    "#Convert the target arrays to one-hot encodings\n",
    "'''from keras.utils.np_utils import to_categorical\n",
    "y_train = tf.keras.utils.to_categorical(\n",
    "    train_df['label'], num_classes=None, dtype='float32'\n",
    ")\n",
    "\n",
    "y_test = tf.keras.utils.to_categorical(\n",
    "    test_df['label'], num_classes=None, dtype='float32'\n",
    ")'''\n",
    "#one or the other I test\n",
    "y_train = np.asarray(train_df['label']).astype('float32').reshape((-1,1))\n",
    "y_test = np.asarray(test_df['label']).astype('float32').reshape((-1,1))"
   ]
  },
  {
   "cell_type": "code",
   "execution_count": 7,
   "metadata": {},
   "outputs": [],
   "source": [
    "#convert to numpy array \n",
    "#!!! suppose to be the same for test but there is a bug and I will deal with it later(tired!!)\n",
    "train = []\n",
    "for i in range(len(train_df)):\n",
    "    train.append(train_df['images'][i])\n",
    "x_train = np.array(train)\n",
    "\n",
    "test = []\n",
    "for index, row in test_df.iterrows():\n",
    "    test.append(row['images'])\n",
    "x_test = np.array(test)"
   ]
  },
  {
   "cell_type": "code",
   "execution_count": 8,
   "metadata": {},
   "outputs": [
    {
     "name": "stdout",
     "output_type": "stream",
     "text": [
      "Shape of training data (2217, 32, 32, 3)\n",
      "\n",
      "Shape of test data (1195, 32, 32, 3)\n"
     ]
    }
   ],
   "source": [
    "print(\"Shape of training data\", x_train.shape)\n",
    "print(\"\\nShape of test data\", x_test.shape)"
   ]
  },
  {
   "cell_type": "code",
   "execution_count": 9,
   "metadata": {},
   "outputs": [
    {
     "data": {
      "text/plain": [
       "<matplotlib.image.AxesImage at 0x7feb58939610>"
      ]
     },
     "execution_count": 9,
     "metadata": {},
     "output_type": "execute_result"
    },
    {
     "data": {
      "image/png": "[encoded data removed]",
      "text/plain": [
       "<Figure size 432x288 with 1 Axes>"
      ]
     },
     "metadata": {},
     "output_type": "display_data"
    }
   ],
   "source": [
    "plt.imshow(x_train[630]) #example"
   ]
  },
  {
   "cell_type": "code",
   "execution_count": 10,
   "metadata": {},
   "outputs": [
    {
     "data": {
      "text/plain": [
       "<matplotlib.image.AxesImage at 0x7feb585fc220>"
      ]
     },
     "execution_count": 10,
     "metadata": {},
     "output_type": "execute_result"
    },
    {
     "data": {
      "image/png": "[encoded data removed]",
      "text/plain": [
       "<Figure size 432x288 with 1 Axes>"
      ]
     },
     "metadata": {},
     "output_type": "display_data"
    }
   ],
   "source": [
    "plt.imshow(x_test[61]) #example"
   ]
  },
  {
   "cell_type": "markdown",
   "metadata": {},
   "source": [
    "## First Naive model"
   ]
  },
  {
   "cell_type": "code",
   "execution_count": 11,
   "metadata": {},
   "outputs": [
    {
     "name": "stdout",
     "output_type": "stream",
     "text": [
      "Model: \"sequential\"\n",
      "_________________________________________________________________\n",
      "Layer (type)                 Output Shape              Param #   \n",
      "=================================================================\n",
      "conv2d (Conv2D)              (None, 30, 30, 32)        896       \n",
      "_________________________________________________________________\n",
      "activation (Activation)      (None, 30, 30, 32)        0         \n",
      "_________________________________________________________________\n",
      "max_pooling2d (MaxPooling2D) (None, 15, 15, 32)        0         \n",
      "_________________________________________________________________\n",
      "conv2d_1 (Conv2D)            (None, 13, 13, 32)        9248      \n",
      "_________________________________________________________________\n",
      "activation_1 (Activation)    (None, 13, 13, 32)        0         \n",
      "_________________________________________________________________\n",
      "max_pooling2d_1 (MaxPooling2 (None, 6, 6, 32)          0         \n",
      "_________________________________________________________________\n",
      "conv2d_2 (Conv2D)            (None, 4, 4, 64)          18496     \n",
      "_________________________________________________________________\n",
      "activation_2 (Activation)    (None, 4, 4, 64)          0         \n",
      "_________________________________________________________________\n",
      "max_pooling2d_2 (MaxPooling2 (None, 2, 2, 64)          0         \n",
      "_________________________________________________________________\n",
      "flatten (Flatten)            (None, 256)               0         \n",
      "_________________________________________________________________\n",
      "dense (Dense)                (None, 64)                16448     \n",
      "_________________________________________________________________\n",
      "activation_3 (Activation)    (None, 64)                0         \n",
      "_________________________________________________________________\n",
      "dropout (Dropout)            (None, 64)                0         \n",
      "_________________________________________________________________\n",
      "dense_1 (Dense)              (None, 1)                 65        \n",
      "_________________________________________________________________\n",
      "activation_4 (Activation)    (None, 1)                 0         \n",
      "=================================================================\n",
      "Total params: 45,153\n",
      "Trainable params: 45,153\n",
      "Non-trainable params: 0\n",
      "_________________________________________________________________\n"
     ]
    }
   ],
   "source": [
    "from keras import layers, models, optimizers\n",
    "from keras.preprocessing.image import ImageDataGenerator\n",
    "from keras.preprocessing.image import img_to_array, load_img\n",
    "from keras import layers, models, optimizers\n",
    "from keras import backend as K\n",
    "model = models.Sequential()\n",
    "\n",
    "model.add(layers.Conv2D(32, (3, 3), input_shape=(32, 32, 3)))\n",
    "model.add(layers.Activation('relu'))\n",
    "model.add(layers.MaxPooling2D(pool_size=(2, 2)))\n",
    "\n",
    "model.add(layers.Conv2D(32, (3, 3)))\n",
    "model.add(layers.Activation('relu'))\n",
    "model.add(layers.MaxPooling2D(pool_size=(2, 2)))\n",
    "\n",
    "model.add(layers.Conv2D(64, (3, 3)))\n",
    "model.add(layers.Activation('relu'))\n",
    "model.add(layers.MaxPooling2D(pool_size=(2, 2)))\n",
    "\n",
    "model.add(layers.Flatten())\n",
    "model.add(layers.Dense(64))\n",
    "model.add(layers.Activation('relu'))\n",
    "model.add(layers.Dropout(0.5))\n",
    "model.add(layers.Dense(1))\n",
    "model.add(layers.Activation('sigmoid'))\n",
    "\n",
    "model.compile(loss='binary_crossentropy',\n",
    "              optimizer='rmsprop',\n",
    "              metrics=['accuracy'])\n",
    "\n",
    "model.summary()"
   ]
  },
  {
   "cell_type": "code",
   "execution_count": 12,
   "metadata": {},
   "outputs": [
    {
     "name": "stdout",
     "output_type": "stream",
     "text": [
      "Epoch 1/50\n",
      "70/70 [==============================] - 2s 20ms/step - loss: 0.6876 - accuracy: 0.5507 - val_loss: 0.6767 - val_accuracy: 0.4560\n",
      "Epoch 2/50\n",
      "70/70 [==============================] - 1s 17ms/step - loss: 0.6486 - accuracy: 0.6355 - val_loss: 0.6982 - val_accuracy: 0.2359\n",
      "Epoch 3/50\n",
      "70/70 [==============================] - 1s 19ms/step - loss: 0.6260 - accuracy: 0.6617 - val_loss: 0.5396 - val_accuracy: 0.4560\n",
      "Epoch 4/50\n",
      "70/70 [==============================] - 1s 17ms/step - loss: 0.6197 - accuracy: 0.6640 - val_loss: 0.6448 - val_accuracy: 0.4465\n",
      "Epoch 5/50\n",
      "70/70 [==============================] - 1s 17ms/step - loss: 0.5968 - accuracy: 0.6865 - val_loss: 0.6055 - val_accuracy: 0.4547\n",
      "Epoch 6/50\n",
      "70/70 [==============================] - 1s 16ms/step - loss: 0.5954 - accuracy: 0.6901 - val_loss: 0.6584 - val_accuracy: 0.3965\n"
     ]
    }
   ],
   "source": [
    "es = tf.keras.callbacks.EarlyStopping(\n",
    "    monitor=\"val_accuracy\",\n",
    "    patience=5)\n",
    "\n",
    "history = model.fit(\n",
    "    x_train,\n",
    "    y_train,\n",
    "    batch_size=32,\n",
    "    epochs=50,\n",
    "    validation_data=(0.1*x_train, 0.1*y_train),callbacks=es\n",
    ")"
   ]
  },
  {
   "cell_type": "markdown",
   "metadata": {},
   "source": [
    "## Predictions"
   ]
  },
  {
   "cell_type": "code",
   "execution_count": 49,
   "metadata": {},
   "outputs": [
    {
     "name": "stdout",
     "output_type": "stream",
     "text": [
      "[[0.7766539 ]\n",
      " [0.7855995 ]\n",
      " [0.79512894]\n",
      " ...\n",
      " [0.30734882]\n",
      " [0.81791043]\n",
      " [0.49734432]]\n"
     ]
    }
   ],
   "source": [
    "y_pred = model.predict(x_test)\n",
    "print(y_pred)"
   ]
  },
  {
   "cell_type": "code",
   "execution_count": 32,
   "metadata": {},
   "outputs": [
    {
     "name": "stdout",
     "output_type": "stream",
     "text": [
      "clean street by [73.1] % because the prediction is = [0.269]\n"
     ]
    },
    {
     "data": {
      "image/png": "[encoded data removed]",
      "text/plain": [
       "<Figure size 432x288 with 1 Axes>"
      ]
     },
     "metadata": {},
     "output_type": "display_data"
    }
   ],
   "source": [
    "plt.imshow(x_test[1110])\n",
    "pred = np.round(predictions[1110],decimals=3)\n",
    "print('clean street by', np.abs(100 - 100*pred),'%','because the prediction is =',pred)"
   ]
  },
  {
   "cell_type": "code",
   "execution_count": 18,
   "metadata": {},
   "outputs": [
    {
     "name": "stdout",
     "output_type": "stream",
     "text": [
      "clean street by [17.299995] % [0.827]\n"
     ]
    },
    {
     "data": {
      "image/png": "[encoded data removed]",
      "text/plain": [
       "<Figure size 432x288 with 1 Axes>"
      ]
     },
     "metadata": {},
     "output_type": "display_data"
    }
   ],
   "source": [
    "plt.imshow(x_test[1100])\n",
    "pred = np.round(predictions[61],decimals=3)\n",
    "print('clean street by', np.abs(100 - 100*pred),'%',pred)"
   ]
  },
  {
   "cell_type": "markdown",
   "metadata": {},
   "source": [
    "## Evaluation the result"
   ]
  },
  {
   "cell_type": "code",
   "execution_count": 66,
   "metadata": {},
   "outputs": [],
   "source": [
    "#change y_pred to binary array\n",
    "for i in range(len(y_pred)):\n",
    "    if y_pred[i] < 0.5:\n",
    "        y_pred[i] = 0\n",
    "    else:\n",
    "        y_pred[i] = 1"
   ]
  },
  {
   "cell_type": "code",
   "execution_count": 70,
   "metadata": {},
   "outputs": [
    {
     "data": {
      "text/plain": [
       "array([[350, 245],\n",
       "       [ 64, 536]])"
      ]
     },
     "execution_count": 70,
     "metadata": {},
     "output_type": "execute_result"
    }
   ],
   "source": [
    "cm = confusion_matrix(y_test, y_pred)\n",
    "cm"
   ]
  },
  {
   "cell_type": "code",
   "execution_count": 74,
   "metadata": {},
   "outputs": [
    {
     "name": "stdout",
     "output_type": "stream",
     "text": [
      "Thats mean that we have 350 false negative 245 true positive 64 false positive and 536 true negative, well done!\n"
     ]
    }
   ],
   "source": [
    "print('Thats mean that we have', cm[0,0], 'false negative', cm[0,1], 'true positive', cm[1,0], 'false positive and', cm[1,1], 'true negative, well done!')"
   ]
  },
  {
   "cell_type": "code",
   "execution_count": null,
   "metadata": {},
   "outputs": [],
   "source": []
  }
 ],
 "metadata": {
  "kernelspec": {
   "display_name": "Python 3",
   "language": "python",
   "name": "python3"
  },
  "language_info": {
   "codemirror_mode": {
    "name": "ipython",
    "version": 3
   },
   "file_extension": ".py",
   "mimetype": "text/x-python",
   "name": "python",
   "nbconvert_exporter": "python",
   "pygments_lexer": "ipython3",
   "version": "3.8.5"
  }
 },
 "nbformat": 4,
 "nbformat_minor": 4
}
