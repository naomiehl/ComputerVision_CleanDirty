{
  "cells": [
    {
      "cell_type": "markdown",
      "metadata": {
        "id": "view-in-github",
        "colab_type": "text"
      },
      "source": [
        "<a href=\"https://colab.research.google.com/github/naomiehl/ComputerVision_CleanDirty/blob/main/StochasticVolatility.ipynb\" target=\"_parent\"><img src=\"https://colab.research.google.com/assets/colab-badge.svg\" alt=\"Open In Colab\"/></a>"
      ]
    },
    {
      "cell_type": "code",
      "execution_count": 2,
      "metadata": {
        "id": "x9M37ObWmmVQ"
      },
      "outputs": [],
      "source": [
        "import time\n",
        "import sys\n",
        "import os\n",
        "from py_vollib.black_scholes.implied_volatility import implied_volatility as implVola\n",
        "from scipy.stats import norm\n",
        "import numpy as np, tensorflow as tf\n",
        "import tensorflow_probability as tfp\n",
        "from keras.activations import *\n",
        "from tensorflow import keras\n",
        "import scipy.stats as stats\n",
        "import matplotlib.pyplot as plt\n",
        "import pandas as pd"
      ]
    },
    {
      "cell_type": "code",
      "execution_count": 1,
      "metadata": {
        "colab": {
          "base_uri": "https://localhost:8080/"
        },
        "id": "4a19UpUgjGeh",
        "outputId": "887ce4bf-7972-44a2-bd5a-aa4602b143ee"
      },
      "outputs": [
        {
          "output_type": "stream",
          "name": "stdout",
          "text": [
            "Looking in indexes: https://pypi.org/simple, https://us-python.pkg.dev/colab-wheels/public/simple/\n",
            "Collecting py_vollib\n",
            "  Downloading py_vollib-1.0.1.tar.gz (19 kB)\n",
            "Collecting py_lets_be_rational\n",
            "  Downloading py_lets_be_rational-1.0.1.tar.gz (18 kB)\n",
            "Collecting simplejson\n",
            "  Downloading simplejson-3.17.6-cp37-cp37m-manylinux_2_5_x86_64.manylinux1_x86_64.manylinux_2_12_x86_64.manylinux2010_x86_64.whl (130 kB)\n",
            "\u001b[K     |████████████████████████████████| 130 kB 45.9 MB/s \n",
            "\u001b[?25hRequirement already satisfied: numpy in /usr/local/lib/python3.7/dist-packages (from py_vollib) (1.21.6)\n",
            "Requirement already satisfied: pandas in /usr/local/lib/python3.7/dist-packages (from py_vollib) (1.3.5)\n",
            "Requirement already satisfied: scipy in /usr/local/lib/python3.7/dist-packages (from py_vollib) (1.7.3)\n",
            "Requirement already satisfied: python-dateutil>=2.7.3 in /usr/local/lib/python3.7/dist-packages (from pandas->py_vollib) (2.8.2)\n",
            "Requirement already satisfied: pytz>=2017.3 in /usr/local/lib/python3.7/dist-packages (from pandas->py_vollib) (2022.1)\n",
            "Requirement already satisfied: six>=1.5 in /usr/local/lib/python3.7/dist-packages (from python-dateutil>=2.7.3->pandas->py_vollib) (1.15.0)\n",
            "Building wheels for collected packages: py-vollib, py-lets-be-rational\n",
            "  Building wheel for py-vollib (setup.py) ... \u001b[?25l\u001b[?25hdone\n",
            "  Created wheel for py-vollib: filename=py_vollib-1.0.1-py3-none-any.whl size=62855 sha256=308cebc00ac915e1bd65bdd322023434fcd70747c8c6ff8ed40d6da7c07362d7\n",
            "  Stored in directory: /root/.cache/pip/wheels/2d/25/50/bc80b93c9a827ed9bef9d86f85365e1934bcbc0666b9f00c11\n",
            "  Building wheel for py-lets-be-rational (setup.py) ... \u001b[?25l\u001b[?25hdone\n",
            "  Created wheel for py-lets-be-rational: filename=py_lets_be_rational-1.0.1-py3-none-any.whl size=24468 sha256=7740a1fdcdf836e45d2a1ff28b9c2754bc9fe17cc4e2b1ecb96dc4c2fc34e75c\n",
            "  Stored in directory: /root/.cache/pip/wheels/1a/70/10/bf54a16badc528594c9510ef517badb765a29b651ea5652898\n",
            "Successfully built py-vollib py-lets-be-rational\n",
            "Installing collected packages: simplejson, py-lets-be-rational, py-vollib\n",
            "Successfully installed py-lets-be-rational-1.0.1 py-vollib-1.0.1 simplejson-3.17.6\n"
          ]
        }
      ],
      "source": [
        "pip install py_vollib"
      ]
    },
    {
      "cell_type": "code",
      "execution_count": null,
      "metadata": {
        "id": "oea0lPJgmmVU"
      },
      "outputs": [],
      "source": [
        "class NeuralNetwork(tf.keras.Model):\n",
        "\n",
        "    def __init__(self):\n",
        "        super(NeuralNetwork, self).__init__()\n",
        "\n",
        "        self.LAYERLENGTH = 64\n",
        "        self.NUMHIDDENLAYERS = 4\n",
        "        self.l = [tf.keras.layers.Dense(self.LAYERLENGTH,\n",
        "                                        activation = tf.nn.leaky_relu,\n",
        "                                        bias_initializer=tf.zeros_initializer(),\n",
        "                                        kernel_initializer=tf.keras.initializers.TruncatedNormal(stddev=0.05),\n",
        "                                        use_bias=True) for i in range(self.NUMHIDDENLAYERS)]\n",
        "\n",
        "        self.l += [tf.keras.layers.Dense(self.LAYERLENGTH,\n",
        "                                         activation=tf.nn.tanh,\n",
        "                                         bias_initializer=tf.zeros_initializer(),\n",
        "                                         kernel_initializer=tf.keras.initializers.TruncatedNormal(stddev=0.05),\n",
        "                                         use_bias=True)]\n",
        "\n",
        "        self.l += [tf.keras.layers.Dense(1, activation=None, use_bias=True,\n",
        "                                         bias_initializer=tf.zeros_initializer(),\n",
        "                                         kernel_initializer=tf.keras.initializers.TruncatedNormal(stddev=0.05))]\n",
        "\n",
        "    def call(self, x):\n",
        "        for layer in self.l:\n",
        "            x = layer(x)\n",
        "        return x"
      ]
    },
    {
      "cell_type": "code",
      "execution_count": null,
      "metadata": {
        "id": "3p_EbUGZvToF"
      },
      "outputs": [],
      "source": [
        "# Feed Forward\n",
        "class NeuralNetwork(tf.keras.Model):\n",
        "\n",
        "    def __init__(self):\n",
        "        super(NeuralNetwork, self).__init__()\n",
        "\n",
        "        self.l = [tf.keras.layers.Dense(64, activation=tf.nn.tanh)]\n",
        "        self.l += [tf.keras.layers.Dense(16, activation=tf.nn.tanh)]\n",
        "        self.l += [tf.keras.layers.Dense(1, activation=tf.nn.tanh)]\n",
        "\n",
        "    def call(self, x):\n",
        "        for layer in self.l:\n",
        "            x = layer(x)\n",
        "        return x"
      ]
    },
    {
      "cell_type": "code",
      "source": [
        "#RNN 1\n",
        "\n",
        "'''\n",
        "model = keras.Sequential()\n",
        "model.add(layers.SimpleRNN(64, input_shape=(None, 28)))\n",
        "model.add(layers.BatchNormalization())\n",
        "model.add(layers.Dense(10))\n",
        "print(model.summary())\n",
        "'''\n",
        "class NeuralNetwork(tf.keras.Model):\n",
        "\n",
        "  def __init__(self):\n",
        "        super(NeuralNetwork, self).__init__()\n",
        "\n",
        "        #self.l = [tf.keras.layers.Dense(64)]\n",
        "        self.l = [tf.keras.layers.Embedding(32,64)]\n",
        "        self.l += [tf.keras.layers.SimpleRNN(64, return_sequences=True, return_state=True)]\n",
        "        self.l += [tf.keras.layers.BatchNormalization()]\n",
        "        self.l += [tf.keras.layers.Dense(1, activation=tf.nn.tanh)]\n",
        "\n",
        "  def call(self, x):\n",
        "        for layer in self.l:\n",
        "            x = layer(x)\n",
        "        return x      "
      ],
      "metadata": {
        "id": "CzXi-k5MrJVt"
      },
      "execution_count": null,
      "outputs": []
    },
    {
      "cell_type": "code",
      "source": [
        "# RNN 2\n",
        "\n",
        "class NeuralNetwork(tf.keras.Model):\n",
        "\n",
        "    def __init__(self):\n",
        "        super(NeuralNetwork, self).__init__()\n",
        "\n",
        "        \n",
        "        self.l = [tf.keras.layers.Embedding(32,64)]\n",
        "        self.l += [tf.keras.layers.LSTM(64)]\n",
        "        self.l += [tf.keras.layers.Dense(1, activation=tf.nn.tanh)]\n",
        "\n",
        "\n",
        "    def call(self, x):\n",
        "        for layer in self.l:\n",
        "            x = layer(x)\n",
        "        return x\n",
        "# delta dont moove"
      ],
      "metadata": {
        "id": "X5RpcquMErX7"
      },
      "execution_count": 3,
      "outputs": []
    },
    {
      "cell_type": "code",
      "source": [
        "''' \n",
        "\n",
        "model.add(\n",
        "        LSTM(\n",
        "            256,\n",
        "            input_shape=net_in.shape[1:],\n",
        "            return_sequences=True,\n",
        "            recurrent_dropout=0.3,\n",
        "        )\n",
        "    )\n",
        "    model.add(LSTM(256))\n",
        "    model.add(BatchNormalization())\n",
        "    model.add(Dropout(0.3))\n",
        "    model.add(Dense(128))\n",
        "    model.add(Activation(\"relu\"))\n",
        "    model.add(BatchNormalization())\n",
        "    model.add(Dropout(0.3))\n",
        "    model.add(Dense(n_vocab))\n",
        "    model.add(Activation(\"softmax\"))\n",
        "    \n",
        "'''"
      ],
      "metadata": {
        "id": "9JUXHVAMFBty"
      },
      "execution_count": null,
      "outputs": []
    },
    {
      "cell_type": "code",
      "source": [
        "# RNN 3\n",
        "\n",
        "class NeuralNetwork(tf.keras.Model):\n",
        "\n",
        "    def __init__(self):\n",
        "        super(NeuralNetwork, self).__init__()\n",
        "\n",
        "        \n",
        "        self.l = [tf.keras.layers.SimpleRNN((1,5,3), batch_first = True)]\n",
        "        self.l += [tf.keras.layers.Dense(10, activation=tf.nn.tanh)]\n",
        "\n",
        "\n",
        "    def call(self, x):\n",
        "        for layer in self.l:\n",
        "            x = layer(x)\n",
        "        return x"
      ],
      "metadata": {
        "id": "3_bVo4RdIZx0"
      },
      "execution_count": null,
      "outputs": []
    },
    {
      "cell_type": "code",
      "execution_count": 4,
      "metadata": {
        "id": "R52ybtiCmmVV"
      },
      "outputs": [],
      "source": [
        "# Black & Scholes engine\n",
        "\n",
        "class BlackScholesEngine():\n",
        "    def callPriceBlackScholes(self, S, K, T, r, sigma):\n",
        "        d1 = (np.log(S/K)+(r+0.5*sigma**2)*T)/(sigma*np.sqrt(T))\n",
        "        d2 = d1-sigma*np.sqrt(T)\n",
        "        return S*norm.cdf(d1)-norm.cdf(d2)*K*np.exp(-r*T)\n",
        "\n",
        "    def putPriceBlackScholes(self, S, K, T, r, sigma):\n",
        "        d1 = (np.log(S/K)+(r+0.5*sigma**2)*T)/(sigma*np.sqrt(T))\n",
        "        d2 = d1-sigma*np.sqrt(T)\n",
        "        return -S*norm.cdf(-d1)+norm.cdf(-d2)*K*np.exp(-r*T)\n",
        "\n",
        "    def callDeltaBlackScholes(self, S, K, T, r, sigma):\n",
        "        d1 = (np.log(S/K)+(r+0.5*sigma**2)*T)/(sigma*np.sqrt(T))\n",
        "        return norm.cdf(d1)\n",
        "\n",
        "    def putDeltaBlackScholes(self, S, K, T, r, sigma):\n",
        "        d1 = (np.log(S/K)+(r+0.5*sigma**2)*T)/(sigma*np.sqrt(T))\n",
        "        return -norm.cdf(-d1)\n",
        "\n",
        "    def gammaBlackScholes(self, S, K, T, r, sigma):\n",
        "        d1 = (np.log(S/K)+(r+0.5*sigma**2)*T)/(sigma*np.sqrt(T))\n",
        "        return norm.pdf(d1)/(S*sigma*np.sqrt(T))\n",
        "\n",
        "    def vegaBlackScholes(self, S, K, T, r, sigma):\n",
        "        d1 = (np.log(S/K)+(r+0.5*sigma**2)*T)/(sigma*np.sqrt(T))\n",
        "        return S*np.sqrt(T)*norm.pdf(d1)\n",
        "\n",
        "\n",
        "\n",
        "dist_norm =  tfp.distributions.Normal(loc=0., scale=1.)\n",
        "\n",
        "def callDeltaBlackScholes(t, x, strike, vola, mat): \n",
        "    d1 = tf.math.log(x/strike) + 0.5*tf.square(vola)*(mat-t)\n",
        "    d1 = d1/(vola*tf.cast(tf.math.sqrt(mat-t), tf.float32))\n",
        "    return dist_norm.cdf(d1)\n",
        "\n",
        "def putDeltaBlackScholes(t, x, strike, vola, mat): \n",
        "    d1 = tf.math.log(x/strike) + 0.5*tf.square(vola)*(mat-t)\n",
        "    d1 = d1/(vola*tf.cast(tf.math.sqrt(mat-t), tf.float32))\n",
        "    return -dist_norm.cdf(-d1)"
      ]
    },
    {
      "cell_type": "code",
      "execution_count": 5,
      "metadata": {
        "id": "H1WLrqS9mmVW"
      },
      "outputs": [],
      "source": [
        "# Spot\n",
        "S = 20000\n",
        "# Volatility\n",
        "vol = 0.2\n",
        "\n",
        "# Strike of the Call option\n",
        "K = 20000\n",
        "# Horizon\n",
        "T = 0.1\n",
        "# Number of time steps\n",
        "nbSteps = 10\n",
        "\n",
        "# Risk-free rate\n",
        "r = 0.0\n",
        "# Implied volatility\n",
        "sigma = 0.2\n",
        "\n",
        "# transaction cost\n",
        "# example: S=100, Delta=1, the transaction cost equals: omega*S*|Delta|\n",
        "# omega = 0.003\n",
        "omega = 0.0\n",
        "\n",
        "correlSpotVol = -0.75\n",
        "meanRevert = 2\n",
        "volOfVol = 1.5\n",
        "\n",
        "class DeepHedgingEngine(tf.keras.Model):\n",
        "    def __init__(self, r, sigma, vol, S, K, T, nbSteps, omega, correlSpotVol, meanRevert, volOfVol):\n",
        "        super(DeepHedgingEngine, self).__init__()\n",
        "\n",
        "        self.r = r\n",
        "        self.sigma = sigma\n",
        "        self.vol = vol\n",
        "        self.S = S\n",
        "        self.K = K\n",
        "\n",
        "        self.T = T\n",
        "        self.nbSteps = nbSteps\n",
        "        self.dt = self.T/self.nbSteps\n",
        "        self.taux = np.linspace(0, self.T, self.nbSteps+1)\n",
        "\n",
        "        self.priceBS = BlackScholesEngine().callPriceBlackScholes(self.S, self.K, self.T, 0.0, self.sigma)\n",
        "        self.omega = omega\n",
        "\n",
        "        self.correlSpotVol = correlSpotVol\n",
        "        self.meanRevert = meanRevert\n",
        "        self.volOfVol = volOfVol\n",
        "\n",
        "        self.nn = [NeuralNetwork() for _ in range(self.nbSteps+1)]\n",
        "\n",
        "    def call(self, n_paths):\n",
        "        helperX = tf.reshape(0.0, [1,-1])\n",
        "        X = tf.tile(helperX, [n_paths,1])\n",
        "        helperFactor = tf.reshape(0.0, [1,-1])\n",
        "        factor = tf.tile(helperFactor, [n_paths,1])\n",
        "\n",
        "        helperStochInt = tf.reshape(0.0, [1,-1])\n",
        "        stochInt = tf.tile(helperStochInt, [n_paths,1])\n",
        "\n",
        "        for step in np.arange(self.nbSteps):\n",
        "            G = tf.random.normal(tf.shape(X), mean=0, stddev=1)\n",
        "            Z = tf.random.normal(tf.shape(X), mean=0, stddev=1)\n",
        "            Z = self.correlSpotVol*G + np.sqrt(1 - self.correlSpotVol**2)*Z\n",
        "\n",
        "            alpha = self.vol*tf.exp(self.volOfVol*factor)\n",
        "            deltaX = - 0.5*alpha**2*self.dt + alpha*np.sqrt(self.dt)*G\n",
        "\n",
        "            delta = self.hedgingFunction(step, X)\n",
        "            stochInt = stochInt + delta*self.S*(tf.exp(X+deltaX)-tf.exp(X))\n",
        "            hedgingQuantity = delta\n",
        "\n",
        "            X += deltaX\n",
        "            factor = factor*np.exp(-self.meanRevert*self.dt) + np.sqrt((1-np.exp(-2*self.meanRevert*self.dt))/(2*self.meanRevert))*Z\n",
        "\n",
        "        payoff = tf.maximum(self.S*tf.exp(X)-K, 0)\n",
        "        hedgingError = tf.square(self.priceBS + stochInt - payoff)\n",
        "        return tf.reduce_mean(hedgingError)\n",
        "\n",
        "    def PnL(self, n_paths):\n",
        "        helperX = tf.reshape(0.0, [1,-1])\n",
        "        X = tf.tile(helperX, [n_paths,1])\n",
        "        helperFactor = tf.reshape(0.0, [1,-1])\n",
        "        factor = tf.tile(helperFactor, [n_paths,1])\n",
        "\n",
        "        helperStochInt = tf.reshape(0.0, [1,-1])\n",
        "        stochInt = tf.tile(helperStochInt, [n_paths,1])\n",
        "\n",
        "        for step in np.arange(self.nbSteps):\n",
        "            G = tf.random.normal(tf.shape(X), mean=0, stddev=1)\n",
        "            Z = tf.random.normal(tf.shape(X), mean=0, stddev=1)\n",
        "            Z = self.correlSpotVol*G + np.sqrt(1 - self.correlSpotVol**2)*Z\n",
        "\n",
        "            alpha = self.vol*tf.exp(self.volOfVol*factor)\n",
        "            deltaX = - 0.5*alpha**2*self.dt + alpha*np.sqrt(self.dt)*G\n",
        "\n",
        "            delta = self.hedgingFunction(step, X)\n",
        "            stochInt = stochInt + delta*self.S*(tf.exp(X+deltaX)-tf.exp(X))\n",
        "            hedgingQuantity = delta\n",
        "\n",
        "            X += deltaX\n",
        "            factor = factor*np.exp(-self.meanRevert*self.dt) + np.sqrt((1-np.exp(-2*self.meanRevert*self.dt))/(2*self.meanRevert))*Z\n",
        "\n",
        "        payoff = tf.maximum(self.S*tf.exp(X)-K, 0)\n",
        "        hedgingError = tf.square(self.priceBS + stochInt - payoff)\n",
        "        return tf.reduce_mean(hedgingError)\n",
        "\n",
        "    def hedgingFunction(self, mat_index, inputs):\n",
        "        # deltaBS = callDeltaBlackScholes(self.taux[mat_index], self.S*tf.exp(inputs), self.K, self.sigma, self.T)\n",
        "        # return deltaBS+self.nn[mat_index](inputs)\n",
        "        return self.nn[mat_index](inputs)\n"
      ]
    },
    {
      "cell_type": "code",
      "execution_count": 6,
      "metadata": {
        "colab": {
          "base_uri": "https://localhost:8080/"
        },
        "id": "Lr49JyMHmmVX",
        "outputId": "f7fc5280-4066-4b4a-ff08-e14c58cfe12a"
      },
      "outputs": [
        {
          "output_type": "execute_result",
          "data": {
            "text/plain": [
              "<tf.Tensor: shape=(), dtype=float32, numpy=134048.1>"
            ]
          },
          "metadata": {},
          "execution_count": 6
        }
      ],
      "source": [
        "model = DeepHedgingEngine(r, sigma, vol, S, K, T, nbSteps, omega, correlSpotVol, meanRevert, volOfVol)\n",
        "optimizer = tf.keras.optimizers.Adam(learning_rate=1e-3)\n",
        "\n",
        "@tf.function(\n",
        "input_signature=[\n",
        "    tf.TensorSpec(shape=None, dtype=tf.int32),\n",
        "],\n",
        ")\n",
        "def train_step(n_paths):\n",
        "    with tf.GradientTape() as tape:\n",
        "        loss_value = model(n_paths)\n",
        "    grads = tape.gradient(loss_value, model.trainable_weights)\n",
        "    optimizer.apply_gradients(zip(grads, model.trainable_weights))\n",
        "    return loss_value\n",
        "\n",
        "first_time = model(1)\n",
        "first_time"
      ]
    },
    {
      "cell_type": "code",
      "execution_count": 7,
      "metadata": {
        "id": "GO2dG5ISmmVY",
        "colab": {
          "base_uri": "https://localhost:8080/"
        },
        "outputId": "e0732551-7a38-43f4-8d73-3dd566359f95"
      },
      "outputs": [
        {
          "output_type": "stream",
          "name": "stdout",
          "text": [
            "tf.Tensor(437417.62, shape=(), dtype=float32)\n",
            "tf.Tensor(490028.47, shape=(), dtype=float32)\n",
            "tf.Tensor(540053.7, shape=(), dtype=float32)\n",
            "tf.Tensor(503863.84, shape=(), dtype=float32)\n",
            "tf.Tensor(396793.4, shape=(), dtype=float32)\n",
            "tf.Tensor(463148.1, shape=(), dtype=float32)\n",
            "tf.Tensor(425600.88, shape=(), dtype=float32)\n",
            "tf.Tensor(306831.7, shape=(), dtype=float32)\n",
            "tf.Tensor(347945.7, shape=(), dtype=float32)\n",
            "tf.Tensor(422240.3, shape=(), dtype=float32)\n",
            "tf.Tensor(332099.16, shape=(), dtype=float32)\n",
            "tf.Tensor(389639.47, shape=(), dtype=float32)\n",
            "tf.Tensor(363392.84, shape=(), dtype=float32)\n",
            "tf.Tensor(310067.38, shape=(), dtype=float32)\n",
            "tf.Tensor(245876.08, shape=(), dtype=float32)\n",
            "tf.Tensor(279483.2, shape=(), dtype=float32)\n",
            "tf.Tensor(319714.03, shape=(), dtype=float32)\n",
            "tf.Tensor(276609.6, shape=(), dtype=float32)\n",
            "tf.Tensor(273423.3, shape=(), dtype=float32)\n",
            "tf.Tensor(260919.52, shape=(), dtype=float32)\n",
            "tf.Tensor(243867.36, shape=(), dtype=float32)\n",
            "tf.Tensor(232316.16, shape=(), dtype=float32)\n",
            "tf.Tensor(228849.55, shape=(), dtype=float32)\n",
            "tf.Tensor(194290.88, shape=(), dtype=float32)\n",
            "tf.Tensor(234016.08, shape=(), dtype=float32)\n",
            "tf.Tensor(217706.77, shape=(), dtype=float32)\n",
            "tf.Tensor(219027.12, shape=(), dtype=float32)\n",
            "tf.Tensor(194628.56, shape=(), dtype=float32)\n",
            "tf.Tensor(191908.0, shape=(), dtype=float32)\n",
            "tf.Tensor(176038.78, shape=(), dtype=float32)\n",
            "tf.Tensor(185562.23, shape=(), dtype=float32)\n",
            "tf.Tensor(168998.44, shape=(), dtype=float32)\n",
            "tf.Tensor(147584.64, shape=(), dtype=float32)\n",
            "tf.Tensor(177290.2, shape=(), dtype=float32)\n",
            "tf.Tensor(161466.48, shape=(), dtype=float32)\n",
            "tf.Tensor(146503.7, shape=(), dtype=float32)\n",
            "tf.Tensor(172667.05, shape=(), dtype=float32)\n",
            "tf.Tensor(164011.27, shape=(), dtype=float32)\n",
            "tf.Tensor(149351.28, shape=(), dtype=float32)\n",
            "tf.Tensor(164564.1, shape=(), dtype=float32)\n",
            "tf.Tensor(186836.12, shape=(), dtype=float32)\n",
            "tf.Tensor(156799.45, shape=(), dtype=float32)\n",
            "tf.Tensor(153809.72, shape=(), dtype=float32)\n",
            "tf.Tensor(176181.48, shape=(), dtype=float32)\n",
            "tf.Tensor(159001.98, shape=(), dtype=float32)\n",
            "tf.Tensor(199952.8, shape=(), dtype=float32)\n",
            "tf.Tensor(179539.8, shape=(), dtype=float32)\n",
            "tf.Tensor(153577.69, shape=(), dtype=float32)\n",
            "tf.Tensor(162248.81, shape=(), dtype=float32)\n",
            "tf.Tensor(188472.19, shape=(), dtype=float32)\n",
            "tf.Tensor(171250.27, shape=(), dtype=float32)\n",
            "tf.Tensor(162212.48, shape=(), dtype=float32)\n",
            "tf.Tensor(199110.72, shape=(), dtype=float32)\n",
            "tf.Tensor(155228.89, shape=(), dtype=float32)\n",
            "tf.Tensor(180430.98, shape=(), dtype=float32)\n",
            "tf.Tensor(198121.06, shape=(), dtype=float32)\n",
            "tf.Tensor(209068.02, shape=(), dtype=float32)\n",
            "tf.Tensor(182225.88, shape=(), dtype=float32)\n",
            "tf.Tensor(161089.66, shape=(), dtype=float32)\n",
            "tf.Tensor(171942.48, shape=(), dtype=float32)\n",
            "tf.Tensor(165072.02, shape=(), dtype=float32)\n",
            "tf.Tensor(161491.78, shape=(), dtype=float32)\n",
            "tf.Tensor(151865.62, shape=(), dtype=float32)\n",
            "tf.Tensor(182966.2, shape=(), dtype=float32)\n",
            "tf.Tensor(160295.66, shape=(), dtype=float32)\n",
            "tf.Tensor(165765.02, shape=(), dtype=float32)\n",
            "tf.Tensor(165276.16, shape=(), dtype=float32)\n",
            "tf.Tensor(187424.16, shape=(), dtype=float32)\n",
            "tf.Tensor(148528.06, shape=(), dtype=float32)\n",
            "tf.Tensor(136413.31, shape=(), dtype=float32)\n",
            "tf.Tensor(146217.39, shape=(), dtype=float32)\n",
            "tf.Tensor(180741.1, shape=(), dtype=float32)\n",
            "tf.Tensor(162027.95, shape=(), dtype=float32)\n",
            "tf.Tensor(193528.31, shape=(), dtype=float32)\n",
            "tf.Tensor(155387.06, shape=(), dtype=float32)\n",
            "tf.Tensor(182412.36, shape=(), dtype=float32)\n",
            "tf.Tensor(179397.52, shape=(), dtype=float32)\n",
            "tf.Tensor(195185.58, shape=(), dtype=float32)\n",
            "tf.Tensor(158466.77, shape=(), dtype=float32)\n",
            "tf.Tensor(173223.23, shape=(), dtype=float32)\n",
            "tf.Tensor(157013.34, shape=(), dtype=float32)\n",
            "tf.Tensor(145486.52, shape=(), dtype=float32)\n",
            "tf.Tensor(201153.8, shape=(), dtype=float32)\n",
            "tf.Tensor(162762.81, shape=(), dtype=float32)\n",
            "tf.Tensor(184269.88, shape=(), dtype=float32)\n",
            "tf.Tensor(167506.62, shape=(), dtype=float32)\n",
            "tf.Tensor(193731.4, shape=(), dtype=float32)\n",
            "tf.Tensor(146716.69, shape=(), dtype=float32)\n",
            "tf.Tensor(191172.52, shape=(), dtype=float32)\n",
            "tf.Tensor(147169.97, shape=(), dtype=float32)\n",
            "tf.Tensor(159263.47, shape=(), dtype=float32)\n",
            "tf.Tensor(180210.0, shape=(), dtype=float32)\n",
            "tf.Tensor(163527.78, shape=(), dtype=float32)\n",
            "tf.Tensor(162764.0, shape=(), dtype=float32)\n",
            "tf.Tensor(160538.34, shape=(), dtype=float32)\n",
            "tf.Tensor(182271.27, shape=(), dtype=float32)\n",
            "tf.Tensor(154965.73, shape=(), dtype=float32)\n",
            "tf.Tensor(179195.45, shape=(), dtype=float32)\n",
            "tf.Tensor(162786.2, shape=(), dtype=float32)\n",
            "tf.Tensor(184480.08, shape=(), dtype=float32)\n",
            "--- loss function:  184480.08     ---\n",
            "--- 45.72980856895447 seconds ---\n"
          ]
        }
      ],
      "source": [
        "batch_size = tf.constant(400)\n",
        "maxIter = 100\n",
        "\n",
        "start_time = time.time()\n",
        "\n",
        "for k in range(maxIter):\n",
        "    loss_value = train_step(batch_size)\n",
        "    print(loss_value)\n",
        "\n",
        "print(\"--- loss function: \", np.round(loss_value.numpy(), 6), \"    ---\")\n",
        "print(\"---\", time.time() - start_time, \"seconds ---\")"
      ]
    },
    {
      "cell_type": "code",
      "execution_count": 8,
      "metadata": {
        "id": "UEDhV5L_wJOW",
        "colab": {
          "base_uri": "https://localhost:8080/"
        },
        "outputId": "b00fadf5-8db8-466c-b542-c79ba852fb3e"
      },
      "outputs": [
        {
          "output_type": "execute_result",
          "data": {
            "text/plain": [
              "[96993.734,\n",
              " 120372.07,\n",
              " 101328.57,\n",
              " 108376.6,\n",
              " 138266.11,\n",
              " 113083.25,\n",
              " 203637.53,\n",
              " 45538.336,\n",
              " 58288.11,\n",
              " 127527.36,\n",
              " 195424.61,\n",
              " 91787.41,\n",
              " 140849.52,\n",
              " 134913.1,\n",
              " 195158.48,\n",
              " 106733.375,\n",
              " 168460.05,\n",
              " 323427.62,\n",
              " 236106.55,\n",
              " 374070.28,\n",
              " 272867.16,\n",
              " 219189.16,\n",
              " 177597.56,\n",
              " 172948.62,\n",
              " 154212.12,\n",
              " 198168.4,\n",
              " 149327.36,\n",
              " 394778.25,\n",
              " 113926.555,\n",
              " 116209.484,\n",
              " 158321.7,\n",
              " 220528.98,\n",
              " 179721.69,\n",
              " 169272.5,\n",
              " 109729.84,\n",
              " 187741.83,\n",
              " 157639.92,\n",
              " 168577.19,\n",
              " 124972.08,\n",
              " 153787.2,\n",
              " 213359.34,\n",
              " 142110.88,\n",
              " 203461.61,\n",
              " 141067.48,\n",
              " 142537.66,\n",
              " 261208.9,\n",
              " 149073.83,\n",
              " 321258.47,\n",
              " 106641.56,\n",
              " 163645.61,\n",
              " 176546.53,\n",
              " 150182.27,\n",
              " 129537.65,\n",
              " 167311.0,\n",
              " 210684.81,\n",
              " 144564.45,\n",
              " 125154.36,\n",
              " 267185.38,\n",
              " 148169.03,\n",
              " 392143.34,\n",
              " 148464.88,\n",
              " 122230.01,\n",
              " 166403.02,\n",
              " 96697.8,\n",
              " 141731.84,\n",
              " 186143.69,\n",
              " 125872.25,\n",
              " 162890.48,\n",
              " 152148.17,\n",
              " 165284.12,\n",
              " 138874.06,\n",
              " 180061.83,\n",
              " 251685.7,\n",
              " 133369.55,\n",
              " 136015.81,\n",
              " 167953.38,\n",
              " 159683.28,\n",
              " 104665.78,\n",
              " 176561.44,\n",
              " 116021.98,\n",
              " 182997.86,\n",
              " 144510.23,\n",
              " 139912.45,\n",
              " 130110.94,\n",
              " 192171.44,\n",
              " 141326.5,\n",
              " 123368.34,\n",
              " 170806.2,\n",
              " 143557.67,\n",
              " 194311.86,\n",
              " 317191.1,\n",
              " 105761.3,\n",
              " 174522.55,\n",
              " 195828.25,\n",
              " 221295.45,\n",
              " 136545.97,\n",
              " 109578.55,\n",
              " 159061.98,\n",
              " 171903.19]"
            ]
          },
          "metadata": {},
          "execution_count": 8
        }
      ],
      "source": [
        "start_time = time.time()\n",
        "\n",
        "Pnl=[]\n",
        "for i in range(1,100):\n",
        "  Pnl.append(model(i).numpy())\n",
        "Pnl"
      ]
    },
    {
      "cell_type": "code",
      "execution_count": 9,
      "metadata": {
        "id": "PDQ-56mCLZxV",
        "colab": {
          "base_uri": "https://localhost:8080/",
          "height": 297
        },
        "outputId": "c2a5a2de-ee8c-46fd-cd26-694027fe06d9"
      },
      "outputs": [
        {
          "output_type": "display_data",
          "data": {
            "text/plain": [
              "<Figure size 432x288 with 1 Axes>"
            ],
            "image/png": "[encoded data removed]"
          },
          "metadata": {
            "needs_background": "light"
          }
        },
        {
          "output_type": "stream",
          "name": "stdout",
          "text": [
            "--- 10.944432258605957 seconds ---\n"
          ]
        }
      ],
      "source": [
        "PnL = [x for x in Pnl]\n",
        "plt.hist(PnL, 50, facecolor='g')\n",
        "plt.xlabel(\"PnL\")\n",
        "plt.grid(zorder=10)\n",
        "plt.show()\n",
        "print(\"---\", time.time() - start_time, \"seconds ---\")"
      ]
    },
    {
      "cell_type": "code",
      "execution_count": 10,
      "metadata": {
        "colab": {
          "base_uri": "https://localhost:8080/"
        },
        "id": "RvlW2kvjy3eQ",
        "outputId": "989b4fbd-7f1d-44ce-b21e-56aec5efe72e"
      },
      "outputs": [
        {
          "output_type": "stream",
          "name": "stdout",
          "text": [
            "PnL statistics\n",
            "mean: 167911.36\n",
            "std: 62946.74\n",
            "VaR99 392196.04\n",
            "VaR95 317597.83\n",
            "VaR90 239222.38\n",
            "VaR80 195586.07\n",
            "VaR50 154212.12\n",
            "5th-percentile: 100895.09\n",
            "95th-percentile: 317597.83\n"
          ]
        }
      ],
      "source": [
        "roun = 2\n",
        "\n",
        "print(\"PnL statistics\")\n",
        "print(\"mean:\", np.round(np.mean(Pnl), roun))\n",
        "print(\"std:\", np.round(np.std(Pnl), roun))\n",
        "print(\"VaR99\", np.round(np.quantile(Pnl, .99), roun))\n",
        "print(\"VaR95\", np.round(np.quantile(Pnl, .95), roun))\n",
        "print(\"VaR90\", np.round(np.quantile(Pnl, .90), roun))\n",
        "print(\"VaR80\", np.round(np.quantile(Pnl, .80), roun))\n",
        "print(\"VaR50\", np.round(np.quantile(Pnl, .50), roun))\n",
        "print(\"5th-percentile:\", np.round(np.percentile(Pnl, 5), roun))\n",
        "print(\"95th-percentile:\", np.round(np.percentile(Pnl, 95), roun))"
      ]
    },
    {
      "cell_type": "code",
      "execution_count": 11,
      "metadata": {
        "colab": {
          "base_uri": "https://localhost:8080/",
          "height": 53
        },
        "id": "vPY3kCGYHFBf",
        "outputId": "351de4e4-713d-4bbd-e95d-508d4d98b6f9"
      },
      "outputs": [
        {
          "output_type": "execute_result",
          "data": {
            "text/plain": [
              "'\\nimport torch\\nimport torchvision\\n\\ndef entropic_loss(Pnl):\\n    Pnl = torch.tensor(Pnl)\\n    return  np.round(-np.mean(-np.exp(-Pnl)).roun)\\nprint(\"Entropic Loss Measure (ERM):\", entropic_loss(Pnl))'"
            ],
            "application/vnd.google.colaboratory.intrinsic+json": {
              "type": "string"
            }
          },
          "metadata": {},
          "execution_count": 11
        }
      ],
      "source": [
        "'''\n",
        "import torch\n",
        "import torchvision\n",
        "\n",
        "def entropic_loss(Pnl):\n",
        "    Pnl = torch.tensor(Pnl)\n",
        "    return  np.round(-np.mean(-np.exp(-Pnl)).roun)\n",
        "print(\"Entropic Loss Measure (ERM):\", entropic_loss(Pnl))'''"
      ]
    },
    {
      "cell_type": "code",
      "execution_count": 14,
      "metadata": {
        "colab": {
          "base_uri": "https://localhost:8080/"
        },
        "id": "k5o5h0gaYCcw",
        "outputId": "be6639ac-3c68-4940-c4c1-eeb60f3fdcbc"
      },
      "outputs": [
        {
          "output_type": "execute_result",
          "data": {
            "text/plain": [
              "20000"
            ]
          },
          "metadata": {},
          "execution_count": 14
        }
      ],
      "source": [
        "model.S"
      ]
    },
    {
      "cell_type": "code",
      "execution_count": 25,
      "metadata": {
        "colab": {
          "base_uri": "https://localhost:8080/",
          "height": 1000
        },
        "id": "ICwS7MqmmmVZ",
        "outputId": "57665523-0c95-4d98-8af4-147993a7642f"
      },
      "outputs": [
        {
          "output_type": "stream",
          "name": "stdout",
          "text": [
            "delta NN tf.Tensor([0.4836595], shape=(1,), dtype=float32) delta BS [0.05110068]\n"
          ]
        },
        {
          "output_type": "display_data",
          "data": {
            "text/plain": [
              "<Figure size 432x288 with 1 Axes>"
            ],
            "image/png": "[encoded data removed]"
          },
          "metadata": {
            "needs_background": "light"
          }
        },
        {
          "output_type": "stream",
          "name": "stdout",
          "text": [
            "delta NN tf.Tensor([0.42516184], shape=(1,), dtype=float32) delta BS [0.04217289]\n"
          ]
        },
        {
          "output_type": "display_data",
          "data": {
            "text/plain": [
              "<Figure size 432x288 with 1 Axes>"
            ],
            "image/png": "[encoded data removed]"
          },
          "metadata": {
            "needs_background": "light"
          }
        },
        {
          "output_type": "stream",
          "name": "stdout",
          "text": [
            "delta NN tf.Tensor([0.43184194], shape=(1,), dtype=float32) delta BS [0.03330884]\n"
          ]
        },
        {
          "output_type": "display_data",
          "data": {
            "text/plain": [
              "<Figure size 432x288 with 1 Axes>"
            ],
            "image/png": "[encoded data removed]"
          },
          "metadata": {
            "needs_background": "light"
          }
        },
        {
          "output_type": "stream",
          "name": "stdout",
          "text": [
            "delta NN tf.Tensor([0.4135067], shape=(1,), dtype=float32) delta BS [0.02472625]\n"
          ]
        },
        {
          "output_type": "display_data",
          "data": {
            "text/plain": [
              "<Figure size 432x288 with 1 Axes>"
            ],
            "image/png": "[encoded data removed]"
          },
          "metadata": {
            "needs_background": "light"
          }
        },
        {
          "output_type": "stream",
          "name": "stdout",
          "text": [
            "delta NN tf.Tensor([0.42007878], shape=(1,), dtype=float32) delta BS [0.01674463]\n"
          ]
        },
        {
          "output_type": "display_data",
          "data": {
            "text/plain": [
              "<Figure size 432x288 with 1 Axes>"
            ],
            "image/png": "[encoded data removed]"
          },
          "metadata": {
            "needs_background": "light"
          }
        },
        {
          "output_type": "stream",
          "name": "stdout",
          "text": [
            "delta NN tf.Tensor([0.39269003], shape=(1,), dtype=float32) delta BS [0.00980906]\n"
          ]
        },
        {
          "output_type": "display_data",
          "data": {
            "text/plain": [
              "<Figure size 432x288 with 1 Axes>"
            ],
            "image/png": "[encoded data removed]"
          },
          "metadata": {
            "needs_background": "light"
          }
        },
        {
          "output_type": "stream",
          "name": "stdout",
          "text": [
            "delta NN tf.Tensor([0.41579074], shape=(1,), dtype=float32) delta BS [0.00447427]\n"
          ]
        },
        {
          "output_type": "display_data",
          "data": {
            "text/plain": [
              "<Figure size 432x288 with 1 Axes>"
            ],
            "image/png": "[encoded data removed]"
          },
          "metadata": {
            "needs_background": "light"
          }
        },
        {
          "output_type": "stream",
          "name": "stdout",
          "text": [
            "delta NN tf.Tensor([0.39477283], shape=(1,), dtype=float32) delta BS [0.00124656]\n"
          ]
        },
        {
          "output_type": "display_data",
          "data": {
            "text/plain": [
              "<Figure size 432x288 with 1 Axes>"
            ],
            "image/png": "[encoded data removed]"
          },
          "metadata": {
            "needs_background": "light"
          }
        },
        {
          "output_type": "stream",
          "name": "stdout",
          "text": [
            "delta NN tf.Tensor([0.3864332], shape=(1,), dtype=float32) delta BS [0.00010326]\n"
          ]
        },
        {
          "output_type": "display_data",
          "data": {
            "text/plain": [
              "<Figure size 432x288 with 1 Axes>"
            ],
            "image/png": "[encoded data removed]"
          },
          "metadata": {
            "needs_background": "light"
          }
        },
        {
          "output_type": "stream",
          "name": "stdout",
          "text": [
            "delta NN tf.Tensor([0.3687836], shape=(1,), dtype=float32) delta BS [7.28045423e-08]\n"
          ]
        },
        {
          "output_type": "display_data",
          "data": {
            "text/plain": [
              "<Figure size 432x288 with 1 Axes>"
            ],
            "image/png": "[encoded data removed]"
          },
          "metadata": {
            "needs_background": "light"
          }
        }
      ],
      "source": [
        "arraySpot = np.linspace(0.9*model.S, 1.2*model.S, 100)\n",
        "arraySpot = arraySpot.astype(np.float32)\n",
        "arraySpot = np.reshape(arraySpot, [-1,1])\n",
        "\n",
        "\n",
        "for i in range(model.nbSteps):\n",
        "    plt.plot(arraySpot, model.hedgingFunction(i, np.log(arraySpot/model.S)), label=\"Neural network $H(t, \\cdot)$\")\n",
        "    plt.plot(arraySpot, BlackScholesEngine().callDeltaBlackScholes(arraySpot, model.K, model.T-model.taux[i], 0.0, model.sigma), label=\"Delta Black & Scholes\")\n",
        "    print('delta NN',model.hedgingFunction(i, np.log(arraySpot/model.S))[0], 'delta BS',BlackScholesEngine().callDeltaBlackScholes(arraySpot, model.K, model.T-model.taux[i], 0.0, model.sigma)[0] )\n",
        "    plt.title(\"t =  {}\".format(np.round(model.taux[i], 4)))\n",
        "    plt.xlabel(\"Spot\")\n",
        "    plt.ylabel(\"Hedge\")\n",
        "    plt.legend()\n",
        "    plt.grid()\n",
        "    plt.show()"
      ]
    }
  ],
  "metadata": {
    "colab": {
      "collapsed_sections": [],
      "name": "StochasticVolatility.ipynb",
      "provenance": [],
      "include_colab_link": true
    },
    "kernelspec": {
      "display_name": "Python 3",
      "language": "python",
      "name": "python3"
    },
    "language_info": {
      "codemirror_mode": {
        "name": "ipython",
        "version": 3
      },
      "file_extension": ".py",
      "mimetype": "text/x-python",
      "name": "python",
      "nbconvert_exporter": "python",
      "pygments_lexer": "ipython3",
      "version": "3.7.6"
    }
  },
  "nbformat": 4,
  "nbformat_minor": 0
}